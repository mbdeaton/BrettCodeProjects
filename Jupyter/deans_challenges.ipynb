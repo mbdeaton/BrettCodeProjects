{
 "cells": [
  {
   "cell_type": "markdown",
   "metadata": {},
   "source": [
    "# Dean Stevens' Challenges"
   ]
  },
  {
   "cell_type": "markdown",
   "metadata": {},
   "source": [
    "Brett Deaton - Summer 2021"
   ]
  },
  {
   "cell_type": "markdown",
   "metadata": {},
   "source": [
    "From Dean Stevens' \"Intro to Python\" class Sep 2021."
   ]
  },
  {
   "cell_type": "markdown",
   "metadata": {},
   "source": [
    "### Parse a Paragraph"
   ]
  },
  {
   "cell_type": "code",
   "execution_count": 1,
   "metadata": {},
   "outputs": [],
   "source": [
    "text = (\n",
    "    \"In order to help identify the best future employee owners we ask \"\n",
    "    \"candidates to complete a small coding task. This helps us evaluate the \"\n",
    "    \"ability of an individual to generate a reasonable solution to a programming \"\n",
    "    \"problem. Your solution gives us some insight into how you might perform on \"\n",
    "    \"real world projects. Please take this paragraph of text and generate an \"\n",
    "    \"alphabetized list of the unique words that it contains. After each word \"\n",
    "    \"tell us how many times the word appeared and in what sentences the word \"\n",
    "    \"appeared. There should not be any tricky punctuation in the test paragraph.\"\n",
    ")"
   ]
  },
  {
   "cell_type": "code",
   "execution_count": null,
   "metadata": {},
   "outputs": [],
   "source": [
    "print(text)"
   ]
  },
  {
   "cell_type": "markdown",
   "metadata": {},
   "source": [
    "Output might look something like:\n",
    "```\n",
    "helps   : Occurrences: 1; Sentences: [2]\n",
    "how     : Occurrences: 2; Sentences: [3, 5]\n",
    "identify: Occurrences: 1; Sentences: [1]\n",
    "in      : Occurrences: 3; Sentences: [1, 5, 6]\n",
    "```"
   ]
  },
  {
   "cell_type": "markdown",
   "metadata": {},
   "source": [
    "##### Brute-force approach"
   ]
  },
  {
   "cell_type": "code",
   "execution_count": 2,
   "metadata": {},
   "outputs": [
    {
     "name": "stdout",
     "output_type": "stream",
     "text": [
      "[['in', 'order', 'to', 'help', 'identify', 'the', 'best', 'future', 'employee', 'owners', 'we', 'ask', 'candidates', 'to', 'complete', 'a', 'small', 'coding', 'task'], ['this', 'helps', 'us', 'evaluate', 'the', 'ability', 'of', 'an', 'individual', 'to', 'generate', 'a', 'reasonable', 'solution', 'to', 'a', 'programming', 'problem'], ['your', 'solution', 'gives', 'us', 'some', 'insight', 'into', 'how', 'you', 'might', 'perform', 'on', 'real', 'world', 'projects'], ['please', 'take', 'this', 'paragraph', 'of', 'text', 'and', 'generate', 'an', 'alphabetized', 'list', 'of', 'the', 'unique', 'words', 'that', 'it', 'contains'], ['after', 'each', 'word', 'tell', 'us', 'how', 'many', 'times', 'the', 'word', 'appeared', 'and', 'in', 'what', 'sentences', 'the', 'word', 'appeared'], ['there', 'should', 'not', 'be', 'any', 'tricky', 'punctuation', 'in', 'the', 'test', 'paragraph']]\n"
     ]
    }
   ],
   "source": [
    "sentence_tree = []\n",
    "for s in text.lower().split(\".\"):\n",
    "    if s is not \"\":\n",
    "        sentence_tree.append(s.split())\n",
    "print(sentence_tree)"
   ]
  },
  {
   "cell_type": "code",
   "execution_count": 3,
   "metadata": {},
   "outputs": [
    {
     "name": "stdout",
     "output_type": "stream",
     "text": [
      "WORD            COUNT     LOCATION(S)\n",
      "a               3         [1, 2]\n",
      "ability         1         [2]\n",
      "after           1         [5]\n",
      "alphabetized    1         [4]\n",
      "an              2         [2, 4]\n",
      "and             2         [4, 5]\n",
      "any             1         [6]\n",
      "appeared        2         [5]\n",
      "ask             1         [1]\n",
      "be              1         [6]\n",
      "best            1         [1]\n",
      "candidates      1         [1]\n",
      "coding          1         [1]\n",
      "complete        1         [1]\n",
      "contains        1         [4]\n",
      "each            1         [5]\n",
      "employee        1         [1]\n",
      "evaluate        1         [2]\n",
      "future          1         [1]\n",
      "generate        2         [2, 4]\n",
      "gives           1         [3]\n",
      "help            1         [1]\n",
      "helps           1         [2]\n",
      "how             2         [3, 5]\n",
      "identify        1         [1]\n",
      "in              3         [1, 5, 6]\n",
      "individual      1         [2]\n",
      "insight         1         [3]\n",
      "into            1         [3]\n",
      "it              1         [4]\n",
      "list            1         [4]\n",
      "many            1         [5]\n",
      "might           1         [3]\n",
      "not             1         [6]\n",
      "of              3         [2, 4]\n",
      "on              1         [3]\n",
      "order           1         [1]\n",
      "owners          1         [1]\n",
      "paragraph       2         [4, 6]\n",
      "perform         1         [3]\n",
      "please          1         [4]\n",
      "problem         1         [2]\n",
      "programming     1         [2]\n",
      "projects        1         [3]\n",
      "punctuation     1         [6]\n",
      "real            1         [3]\n",
      "reasonable      1         [2]\n",
      "sentences       1         [5]\n",
      "should          1         [6]\n",
      "small           1         [1]\n",
      "solution        2         [2, 3]\n",
      "some            1         [3]\n",
      "take            1         [4]\n",
      "task            1         [1]\n",
      "tell            1         [5]\n",
      "test            1         [6]\n",
      "text            1         [4]\n",
      "that            1         [4]\n",
      "the             6         [1, 2, 4, 5, 6]\n",
      "there           1         [6]\n",
      "this            2         [2, 4]\n",
      "times           1         [5]\n",
      "to              4         [1, 2]\n",
      "tricky          1         [6]\n",
      "unique          1         [4]\n",
      "us              3         [2, 3, 5]\n",
      "we              1         [1]\n",
      "what            1         [5]\n",
      "word            3         [5]\n",
      "words           1         [4]\n",
      "world           1         [3]\n",
      "you             1         [3]\n",
      "your            1         [3]\n"
     ]
    }
   ],
   "source": [
    "word_dict = dict()\n",
    "for i, s in enumerate(sentence_tree):\n",
    "    for w in s:\n",
    "        try:\n",
    "            word_dict[w][0] += 1\n",
    "            if word_dict[w][1][-1] != i+1: # avoid redundant location tags\n",
    "                word_dict[w][1].append(i+1)\n",
    "        except KeyError:\n",
    "            word_dict[w] = [1, [i+1]] # [count, location]\n",
    "\n",
    "width = max(map(len, word_dict))\n",
    "print(f\"WORD{' '*width}COUNT     LOCATION(S)\")\n",
    "for w, x in sorted(word_dict.items()):\n",
    "    print(f\"{w:<{width+4}}{x[0]:<10}{x[1]}\")"
   ]
  },
  {
   "cell_type": "markdown",
   "metadata": {},
   "source": [
    "##### More elegant approach"
   ]
  },
  {
   "cell_type": "code",
   "execution_count": null,
   "metadata": {},
   "outputs": [],
   "source": [
    "from collections import defaultdict"
   ]
  },
  {
   "cell_type": "code",
   "execution_count": null,
   "metadata": {},
   "outputs": [],
   "source": []
  },
  {
   "cell_type": "markdown",
   "metadata": {},
   "source": [
    "### Vending Machine"
   ]
  },
  {
   "cell_type": "markdown",
   "metadata": {},
   "source": [
    "Write a program that simulates the output of a vending machine that only takes in coins (US currency).\n",
    "Your program should take an integer as an input from the user (either a 1, 2, or 3) that corresponds with an option for a drink from the vending machine menu (below) and assign the corresponding price to a variable as a float.\n",
    "* water = \\$1.00\n",
    "* cola = \\$1.50\n",
    "* gatorade = \\$2.00\n",
    "\n",
    "After placing an order, the user should be prompted to enter input four times:\n",
    "1. The first time, the user should be prompted to enter the number of quarters they put in the machine.\n",
    "2. The second time, the user should be prompted to enter the number of dimes they put in the machine.\n",
    "3. The third time, the user should be prompted to enter the number of nickels they put in the machine.\n",
    "4. The fourth time, the user should be prompted to enter the number of pennies they put in the machine.\n",
    "\n",
    "Create a variable to hold the total value of all the coins the user has put into the machine.\n",
    "\n",
    "Use flow control statements to print the user's change or output a message asking the user to try again depending on whether the total value of the coins the user has put into the machine is enough to pay for the item they ordered."
   ]
  },
  {
   "cell_type": "code",
   "execution_count": 4,
   "metadata": {},
   "outputs": [],
   "source": [
    "def vend_revenue():\n",
    "    \"\"\"Query user for coins, and return the sum.\"\"\"\n",
    "    print(f\"That'll be ${options[choice]:.2f}\")\n",
    "    print(\"Please insert your change. How many\")\n",
    "    money_in = {\"quarters\":[0.25,0],\n",
    "                \"dimes\":[0.1,0],\n",
    "                \"nickels\":[0.05,0],\n",
    "                \"pennies\":[0.01,0]}\n",
    "    for coin, count in money_in.items():\n",
    "        try:\n",
    "            count[1] += int(input(f\"{coin:>9} : \"))\n",
    "        except ValueError:\n",
    "            print(f\"You didn't enter a whole number, recording 0 {coin}.\")\n",
    "    return sum(map(lambda x: x[0]*x[1], money_in.values()))"
   ]
  },
  {
   "cell_type": "code",
   "execution_count": 6,
   "metadata": {},
   "outputs": [
    {
     "name": "stdin",
     "output_type": "stream",
     "text": [
      "What do you want? ['water', 'cola', 'gatorade']:  water\n"
     ]
    },
    {
     "name": "stdout",
     "output_type": "stream",
     "text": [
      "That'll be $1.00\n",
      "Please insert your change. How many\n"
     ]
    },
    {
     "name": "stdin",
     "output_type": "stream",
     "text": [
      " quarters :  1\n",
      "    dimes :  10\n",
      "  nickels :  1\n",
      "  pennies :  12\n"
     ]
    },
    {
     "name": "stdout",
     "output_type": "stream",
     "text": [
      "Here's your water.\n",
      "And here's your change: $0.42.\n"
     ]
    }
   ],
   "source": [
    "options = {\"water\":1.0, \"cola\":1.5, \"gatorade\":2.0}\n",
    "choice = \"\"\n",
    "while choice not in options.keys():\n",
    "    choice = input(f\"What do you want? {list(options.keys())}: \").lower()\n",
    "\n",
    "money_in = vend_revenue()\n",
    "while money_in < options[choice]:\n",
    "    print(f\"You inserted ${money_in:.2f}, but we needed ${options[choice]:.2f}.\")\n",
    "    if money_in > 0:\n",
    "        print(\"Returning your change.\")\n",
    "    print(\"Please try again.\")\n",
    "    money_in = vend_revenue()\n",
    "\n",
    "print(f\"Here's your {choice}.\")\n",
    "if money_in > options[choice]:\n",
    "    print(f\"And here's your change: ${money_in-options[choice]:.2f}.\")"
   ]
  },
  {
   "cell_type": "code",
   "execution_count": null,
   "metadata": {},
   "outputs": [],
   "source": []
  }
 ],
 "metadata": {
  "kernelspec": {
   "display_name": "Python 3.6.4 64-bit",
   "language": "python",
   "name": "python36464bit97104943229c4632a37338b7c1383cd0"
  },
  "language_info": {
   "codemirror_mode": {
    "name": "ipython",
    "version": 3
   },
   "file_extension": ".py",
   "mimetype": "text/x-python",
   "name": "python",
   "nbconvert_exporter": "python",
   "pygments_lexer": "ipython3",
   "version": "3.6.4"
  }
 },
 "nbformat": 4,
 "nbformat_minor": 4
}
