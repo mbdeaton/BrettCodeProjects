{
 "cells": [
  {
   "cell_type": "markdown",
   "metadata": {},
   "source": [
    "# Spot It"
   ]
  },
  {
   "cell_type": "markdown",
   "metadata": {},
   "source": [
    "Brett Deaton - Nov 2020"
   ]
  },
  {
   "cell_type": "markdown",
   "metadata": {},
   "source": [
    "Imagine a card game (e.g. Spot It or Dobble) in which $m$ symbols appear on each card. The set of cards is made in such a way that any pair of cards has exactly 1 matching symbol. Let's say the $i$-th symbol is used $r_i$ times.\n",
    "\n",
    "Some interesting questions:\n",
    "* How many cards, $k$, in a set?\n",
    "* How many symbols, $n$, are needed to complete a set?"
   ]
  },
  {
   "cell_type": "code",
   "execution_count": 1,
   "metadata": {},
   "outputs": [],
   "source": [
    "import itertools # for combinations()\n",
    "import math      # for factorial()\n",
    "import random    # for shuffle()\n",
    "import string    # for ascii_letters"
   ]
  },
  {
   "cell_type": "code",
   "execution_count": 2,
   "metadata": {},
   "outputs": [],
   "source": [
    "# Build list of all possible cards before pruning to a game set\n",
    "def list_combs(list_n_symbols, m_slots):\n",
    "    \"\"\"Return list of C(n,m) combos of n symbols on cards with m slots.\"\"\"\n",
    "    if m_slots>10:\n",
    "        raise ValueError(\"Currently m>10 (arbitrary) makes a too-long list\")\n",
    "    listc = []\n",
    "    for subset in itertools.combinations(list_n_symbols, m_slots):\n",
    "        listc.append(subset)\n",
    "    return listc\n",
    "    \n",
    "def print_combs(list_combs):\n",
    "    \"\"\"Pretty-print list of combos of symbols on cards.\"\"\"\n",
    "    for card in list_combs:\n",
    "        print(\"\".join(card), end=\" \")"
   ]
  },
  {
   "cell_type": "code",
   "execution_count": 8,
   "metadata": {},
   "outputs": [
    {
     "name": "stdout",
     "output_type": "stream",
     "text": [
      "AB AC AD BC BD CD "
     ]
    }
   ],
   "source": [
    "# Simple example\n",
    "print_combs(list_combs([\"A\", \"B\", \"C\", \"D\"],2))"
   ]
  },
  {
   "cell_type": "code",
   "execution_count": 9,
   "metadata": {},
   "outputs": [],
   "source": [
    "# Build list of symbols\n",
    "def list_n_symbols(n):\n",
    "    \"\"\"Return list of first n alphanumeric characters.\"\"\"\n",
    "    lists = list(string.ascii_uppercase)[:n]\n",
    "    if n>26:\n",
    "        raise ValueError(\"n cannot be greater than 26\")\n",
    "    return lists"
   ]
  },
  {
   "cell_type": "code",
   "execution_count": 11,
   "metadata": {},
   "outputs": [
    {
     "name": "stdout",
     "output_type": "stream",
     "text": [
      "AB AC AD BC BD CD "
     ]
    }
   ],
   "source": [
    "# Simple example\n",
    "print_combs(list_combs(list_n_symbols(4),2))"
   ]
  },
  {
   "cell_type": "code",
   "execution_count": 12,
   "metadata": {},
   "outputs": [],
   "source": [
    "# Build pruned list of cards\n",
    "def prune_combs(list_combs):\n",
    "    \"\"\"Return pruned copy of list_combs.\n",
    "    \n",
    "    Any pair of cards in the returned list shares one and only one symbol.\n",
    "    Pruning begins from the beginning of list_combs.\n",
    "    \"\"\"\n",
    "    list_pruned = [list_combs[0]]\n",
    "    for card_try in list_combs[1:]:\n",
    "        matches = [] # keep track of num symbol matches for each card\n",
    "        for card in list_pruned:\n",
    "            matches.append(0)\n",
    "            for symbol in card_try:\n",
    "                if symbol in card:\n",
    "                    matches[-1] += 1\n",
    "        if all(x==1 for x in matches):\n",
    "            list_pruned.append(card_try)\n",
    "    list_pruned.sort()\n",
    "    return list_pruned"
   ]
  },
  {
   "cell_type": "code",
   "execution_count": 13,
   "metadata": {},
   "outputs": [],
   "source": [
    "# Delete subset of cards from a gameset\n",
    "def del_subset(list_combs, list_to_del):\n",
    "    \"\"\"Remove subset from combinations.\"\"\"\n",
    "    for card in list_to_del:\n",
    "        if len(card) != len(list_combs[0]):\n",
    "            raise ValueError(\"list elements have mismatching length\")\n",
    "        try:\n",
    "            list_combs.remove(card)\n",
    "        except:\n",
    "            print(\"Warning: not all del cards were present\")"
   ]
  },
  {
   "cell_type": "code",
   "execution_count": 21,
   "metadata": {},
   "outputs": [
    {
     "name": "stdout",
     "output_type": "stream",
     "text": [
      "Canonical gameset with 13 cards\n",
      "ABCD AEFG AHIJ AKLM BEHK BFIL BGJM CEIM CFJK CGHL DEJL DFHM DGIK \n",
      "\n"
     ]
    }
   ],
   "source": [
    "# Generate different sets of game cards\n",
    "m_symbols = 4\n",
    "n_symbols = m_symbols*(m_symbols-1)+1\n",
    "listc = list_combs(list_n_symbols(n_symbols),m_symbols)\n",
    "\n",
    "# Print the canonical gameset, built from alphabetized cards\n",
    "print(\"Canonical gameset\", end=\" \")\n",
    "listp = prune_combs(listc)\n",
    "print(\"with\", len(listp),\"cards\")\n",
    "print_combs(listp)\n",
    "print(\"\\n\")"
   ]
  },
  {
   "cell_type": "code",
   "execution_count": 24,
   "metadata": {},
   "outputs": [
    {
     "name": "stdout",
     "output_type": "stream",
     "text": [
      "Other gamesets:\n",
      "ABCD AEFG AILM AKQS BELS BFMQ BGIK CEIQ CFKL CGMS DEKM DFIS DGLQ \n",
      "ABCD AEFH AGJR AILO BELR BFGI BHJO CEIJ CFOR CGHL DEGO DFJL DHIR \n",
      "ABCD AEFJ AGUW AORS BEGO BFRW BJSU CERU CFGS CJOW DESW DFOU DGJR \n",
      "ABCD AEFJ AKMQ ALSW BELM BFKW BJQS CEQW CFMS CJKL DEKS DFLQ DJMW \n",
      "ABCD AEFL AGHI AKMR BEHM BFIR BGKL CEGR CFHK CILM DEIK DFGM DHLR \n",
      "ABCD AEFP AIQS AKLW BEQW BFLS BIKP CEIL CFKQ CPSW DEKS DFIW DLPQ \n",
      "ABCD AEFW AJPS ANQU BENP BFSU BJQW CEJU CFPQ CNSW DEQS DFJN DPUW \n",
      "ABCD AEGI AHLM AQRU BEMU BGLQ BHIR CEHQ CGMR CILU DELR DGHU DIMQ \n",
      "ABCD AEGJ AHPT ANOU BEPU BGNT BHJO CEOT CGHU CJNP DEHN DGOP DJTU \n",
      "ABCD AEGL AHKN AMQS BEKQ BGNS BHLM CEHS CGKM CLNQ DEMN DGHQ DKLS \n",
      "ABCD AEGN AFOV ALQU BELV BFNU BGOQ CEOU CFGL CNQV DEFQ DGUV DLNO \n",
      "ABCD AEGS AMRV BGJM BRSW DGHR DKMS \n",
      "ABCD AEHL AGTV AIPS BEST BGIL BHPV CEGP CHIT CLSV DEIV DGHS DLPT \n",
      "ABCD AEHN AGRU AKPV BEUV BGNP BHKR CEPR CGHV CKNU DEGK DHPU DNRV \n",
      "ABCD AEHU AGTW BFTU BHLW DHQT DRUW \n",
      "ABCD AEHV AFIM AJNU BEMU BFHN BIJV CEFJ CHIU CMNV DEIN DFUV DHJM \n",
      "ABCD AEIN AFSU AHLV BEFH BIUV BLNS CESV CFIL CHNU DELU DFNV DHIS \n",
      "ABCD AEIS AFJL AQVW BEJW BFIQ BLSV CELQ CFSW CIJV DEFV DILW DJQS \n",
      "ABCD AEIU AHNS ALOP BEPS BHOU BILN CENO CHIP CLSU DEHL DIOS DNPU \n",
      "ABCD AEIV AFNS ALMW BENW BFIL BMSV CELS CFVW CIMN DEFM DISW DLNV \n",
      "ABCD AEJL AFIV APQR BERV BFLP BIJQ CEIP CFJR CLQV DEFQ DILR DJPV \n",
      "ABCD AEJM AFKR AOPW BEPR BFJO BKMW CEFW CJKP CMOR DEKO DFMP DJRW \n",
      "ABCD AEJP AFOV AGKM BEFM BGPV BJKO CEGO CFKP CJMV DEKV DFGJ DMOP \n",
      "ABCD AEJS AFHM AGIT AKNV ALPU AOQR \n",
      "ABCD AEJW AFKM AGLR BEFL BGKW BJMR CEKR CFGJ CLMW DEGM DFRW DJKL \n",
      "ABCD AEKN AIJM ALPS BEJP BIKL BMNS CELM CINP CJKS DEIS DJLN DKMP \n",
      "ABCD AEKP AFHO AGNR AIJW ALMT AQSU \n",
      "ABCD AEKP AGTU AHJO BEGH BJKU BOPT CEJT CGKO CHPU DEOU DGJP DHKT \n",
      "ABCD AEKR AJNS ALOU BENO BJKL BRSU CELS CJOR CKNU DEJU DKOS DLNR \n",
      "ABCD AEKT AFIQ AHSV BEIV BFST BHKQ CEFH CIKS CQTV DEQS DFKV DHIT \n",
      "ABCD AEKT AFJO AGHS BEFH BGOT BJKS CEOS CFGK CHJT DEGJ DFST DHKO \n",
      "ABCD AEKU AFQW AMRT BEFR BKQT BMUW CEMQ CFTU CKRW DETW DFKM DQRU \n",
      "ABCD AELM AJRT AKPQ BEPR BJLQ BKMT CEQT CJMP CKLR DEJK DLPT DMQR \n",
      "ABCD AELN AFKQ ARTW BEKW BFNR BLQT CEQR CFLW CKNT DEFT DKLR DNQW \n",
      "ABCD AELP AFMO AIVW BEFI BLOW BMPV CEOV CFPW CILM DEMW DFLV DIOP \n",
      "ABCD AELP AJMU ANST BENU BJLS BMPT CEMS CJNP CLTU DEJT DLMN DPSU \n",
      "ABCD AELV AFIT AQRU BEIQ BFRV BLTU CERT CFLQ CIUV DEFU DILR DQTV \n",
      "ABCD AELW AGHI APTU BEGP BHTW BILU CEIT CGUW CHLP DEHU DGLT DIPW \n",
      "ABCD AEMO AGQS AJNR BEGR BJOQ BMNS CEJS CGNO CMQR DENQ DGJM DORS \n",
      "ABCD AEMP AFNV AIOU BEIN BFMU BOPV CEUV CFIP CMNO DEFO DIMV DNPU \n",
      "ABCD AEMP AJSW AKRU BESU BJKM BPRW CEJR CKPS CMUW DEKW DJPU DMRS \n",
      "ABCD AEMQ AFNW AGHR AIJT AKLS APUV \n",
      "ABCD AEMQ AHNV AIOR BENR BHMO BIQV CEOV CHQR CIMN DEHI DMRV DNOQ \n",
      "ABCD AEMS AFOT AJKR BEOR BFKM BJST CEFJ CKOS CMRT DEKT DFRS DJMO \n",
      "ABCD AEMU AHVW CEHS CLUW DEGW DHKU \n",
      "ABCD AEMV AGPT AKUW BETW BGMU BKPV CEPU CGVW CKMT DEGK DMPW DTUV \n",
      "ABCD AEMV AIRS ALNO BENS BILV BMOR CELR CIMN COSV DEIO DLMS DNRV \n",
      "ABCD AENS AJLU ARTV BEJT BLRS BNUV CERU CJSV CLNT DELV DJNR DSTU \n",
      "ABCD AEOQ AFNP AHLR BENR BFLO BHPQ CELP CFQR CHNO DEFH DLNQ DOPR \n",
      "ABCD AEOT AFQS AMRU BERS BFOU BMQT CEQU CFRT CMOS DEFM DOQR DSTU \n",
      "ABCD AEPQ AFMW AGHU AILO AJNT AKRS \n",
      "ABCD AEPQ AGKL AIJV BEGJ BILQ BKPV CEIK CGQV CJLP DELV DGIP DJKQ \n",
      "ABCD AEPS AHRV AINO BENV BHIP BORS CEHO CISV CNPR DEIR DHNS DOPV \n",
      "ABCD AEPU AFLW AQRS BEFR BLSU BPQW CESW CFQU CLPR DELQ DFPS DRUW \n",
      "ABCD AEPV AFIT AGOW AHMS AJRU AKNQ \n",
      "ABCD AEPV AFRU AJMS BEJR BFPS BMUV CEFM CJPU CRSV DESU DFJV DMPR \n",
      "ABCD AEPW AHQU ALSV BEHV BLQW BPSU CEQS CHLP CUVW DELU DHSW DPQV \n",
      "ABCD AEQT AHRW ALOV BEHO BLQW BRTV CEVW CHLT COQR DELR DHQV DOTW \n",
      "ABCD AEQU AGPT AMVW BETW BGMQ BPUV CEGV CMTU CPQW DEMP DGUW DQTV \n",
      "ABCD AERV AFGS AIQT BEGI BFQV BRST CEFT CGQR CISV DEQS DFIR DGTV \n",
      "ABCD AERV AJLQ CHJR CLOV DJPV DLRT \n",
      "ABCD AESU AHTW AIJL BEJT BHLU BISW CELW CHJS CITU DEHI DJUW DLST \n",
      "ABCD AETU AFNQ ALMW BELN BFMT BQUW CEMQ CFLU CNTW DEFW DLQT DMNU \n",
      "ABCD AETV AFHQ AIKM BEMQ BFKT BHIV CEHK CFMV CIQT DEFI DHMT DKQV \n",
      "ABCD AEUV AHLR APQW BEQR BHPU BLVW CELP CHQV CRUW DEHW DLQU DPRV \n",
      "ABCD AEUW AFMR AJQS BEMS BFQU BJRW CEQR CFSW CJMU DEFJ DMQW DRSU \n",
      "ABCD AEUW AHNO AJLV BEHV BJNU BLOW CELN CHJW COUV DEJO DHLU DNVW \n",
      "ABCD AEVW AHRS AILQ BEQR BHIW BLSV CEHL CIRV CQSW DEIS DHQV DLRW \n",
      "ABCD AFGJ AHMQ AKLS BFLM BGQS BHJK CFKQ CGHL CJMS DFHS DGKM DJLQ \n",
      "ABCD AFGO APRU CFUW COPT DEFP DOUV \n",
      "ABCD AFGP AKTV AMOS BFMT BGKO BPSV CFOV CGST CKMP DFKS DGMV DOPT \n",
      "ABCD AFGQ AHJM ALNV BFLM BGJN BHQV CFHN CGMV CJLQ DFJV DGHL DMNQ \n",
      "ABCD AFHI ALNT ARSU BFLS BHNU BIRT CFTU CHLR CINS DFNR DHST DILU \n",
      "ABCD AFHW AIQT ALMR BFMQ BHRT BILW CFIR CHLQ CMTW DFLT DHIM DQRW \n",
      "ABCD AFHW ALRV AMQU BFQR BHUV BLMW CFMV CHLQ CRUW DFLU DHMR DQVW \n",
      "ABCD AFIW AKMV ANOT BFKN BIOV BMTW CFMO CIKT CNVW DFTV DIMN DKOW \n",
      "ABCD AFJM AGOP AIKT BFGK BIMP BJOT CFIO CGMT CJKP DFPT DGIJ DKMO \n",
      "ABCD AFKR AHLV AMPQ BFMV BHPR BKLQ CFHQ CKPV CLMR DFLP DHKM DQRV \n",
      "ABCD AFKV AIPU AMQT BFPT BIKQ BMUV CFIM CKTU CPQV DFQU DITV DKMP \n",
      "ABCD AFLM AIPV AKNQ BFPQ BILN BKMV CFNV CIMQ CKLP DFIK DLQV DMNP \n",
      "ABCD AFLO ANTU ARSW BFST BLUW BNOR CFNW CLRT COSU DFRU DLNS DOTW \n",
      "ABCD AFLR AGKS AMOU BFGM BKLO BRSU CFOS CGLU CKMR DFKU DGOR DLMS \n",
      "ABCD AFLW AGHV AMPS BFHM BGLP BSVW CFGS CHPW CLMV DFPV DGMW DHLS \n",
      "ABCD AFMO AHRS AIKU BFIR BHOU BKMS CFSU CHIM CKOR DFHK DIOS DMRU \n",
      "ABCD AFMO AJNS APVW BFNW BJMV BOPS CFSV CJOW CMNP DFJP DMSW DNOV \n",
      "ABCD AFMQ AHST ALOU BFLS BHMO BQTU CFOT CHLQ CMSU DFHU DLMT DOQS \n",
      "ABCD AFNO AGKL AHRU BFHK BGOR BLNU CFGU CHLO CKNR DFLR DGHN DKOU \n",
      "ABCD AFNO AHJV ARSW BFHR BJNW BOSV CFVW CHNS CJOR DFJS DHOW DNRV \n",
      "ABCD AFNQ AGSW AHIR BFIS BGQR BHNW CFGH CIQW CNRS DFRW DGIN DHQS \n",
      "ABCD AFNT AGOS ALPR BFGR BLNO BPST CFLS CGNP CORT DFOP DGLT DNRS \n",
      "ABCD AFNT AGQS AHIP BFGP BHNQ BIST CFIQ CGHT CNPS DFHS DGIN DPQT \n",
      "ABCD AFNT AHLO BFOW BLNU CFLM CNOQ \n",
      "ABCD AFOV AILS AKPQ BFQS BIKO BLPV CFKL CIQV COPS DFIP DKSV DLOQ \n",
      "ABCD AFPR AILS BFJL BKPS DFHS DGLP \n",
      "ABCD AFPT AGHJ AKUV BFGV BHKT BJPU CFJK CGTU CHPV DFHU DGKP DJTV \n",
      "ABCD AFPW AGIU AKOV BFGV BIKP BOUW CFKU CGOP CIVW DFIO DGKW DPUV \n",
      "ABCD AFRU AGMQ ALNS BFQS BGNR BLMU CFGL CMRS CNQU DFMN DGSU DLQR \n",
      "ABCD AFRV AHMQ AILS BFIQ BHLV BMRS CFLM CHIR CQSV DFHS DIMV DLQR \n",
      "ABCD AFTV AGJL CFLW CIJT DFJU DLMT \n",
      "ABCD AGHI AJOQ ANRT BGJR BHNO BIQT CGOT CHQR CIJN DGNQ DHJT DIOR \n",
      "ABCD AGHN AIMS ALRW BGLS BHIW BMNR CGMW CHRS CILN DGIR DHLM DNSW \n",
      "ABCD AGHN AKLV ASUW BGKW BHLU BNSV CGUV CHKS CLNW DGLS DHVW DKNU \n",
      "ABCD AGHO AILT BFGI BHJL DGLU DHIS \n",
      "ABCD AGHO AILV AMNS BGIM BHLN BOSV CGNV CHIS CLMO DGLS DHMV DINO \n",
      "ABCD AGHP AIJR AMNS BGJS BHNR BIMP CGIN CHJM CPRS DGMR DHIS DJNP \n",
      "ABCD AGIR AHNV AJMT BGHM BINT BJRV CGTV CHIJ CMNR DGJN DHRT DIMV \n",
      "ABCD AGJT AIPQ AOVW BGOP BITV BJQW CGIW CJPV COQT DGQV DIJO DPTW \n",
      "ABCD AGKQ AIRV ANOU BGUV BIKN BOQR CGNR CIQU CKOV DGIO DKRU DNQV \n",
      "ABCD AGLN AIKM CGIP CKLW DEIL DGKO \n",
      "ABCD AGLW AHKR AJNV BGKN BHLV BJRW CGRV CHNW CJKL DGHJ DKVW DLNR \n",
      "ABCD AGNP AHJM AITW BGJW BHIN BMPT CGIM CHPW CJNT DGHT DIJP DMNW \n",
      "ABCD AGNS AIUV CINT CJSV DIRS DKNV \n",
      "ABCD AGOT ALRS APQV BGPR BLOQ BSTV CGQS CLPT CORV DGLV DOPS DQRT \n",
      "ABCD AGRT AHNW AKLP BGHK BLNR BPTW CGLW CHPR CKNT DGNP DHLT DKRW \n",
      "ABCD AGRW AHKQ AJMO BGHJ BKOR BMQW CGOQ CHMR CJKW DGKM DHOW DJQR \n",
      "ABCD AGST AIRW AQUV BGIQ BRSV BTUW CGVW CISU CQRT DGRU DITV DQSW \n",
      "ABCD AGTV AIJU BEJT BGIL CGJK CIOT \n",
      "ABCD AGTV AIKP ALMR BGKL BIRV BMPT CGPR CILT CKMV DGIM DKRT DLPV \n",
      "ABCD AHIM AJST ALOU BHLT BIJU BMOS CHJO CILS CMTU DHSU DIOT DJLM \n",
      "ABCD AHIM ALPR ANST BHNR BIPT BLMS CHLT CIRS CMNP DHPS DILN DMRT \n",
      "ABCD AHJN AILU AOPS BHOU BINP BJLS CHIS CJPU CLNO DHLP DIJO DNSU \n",
      "ABCD AHJN AKMP BHKR BJLP CEHP CJKT \n",
      "ABCD AHJP AIOS CFIJ CHST DHIL DJSW \n",
      "ABCD AHJP AQRS CHQV CPRU DFPQ DHKR \n",
      "ABCD AHJQ AKLP BFJL BPQS DIJP DLMQ \n",
      "ABCD AHKL AIOP AJSU BHJO BIKS BLPU CHIU CJKP CLOS DHPS DIJL DKOU \n",
      "ABCD AHKN AJMP CKPQ CMNT DEKM DFNP \n",
      "ABCD AHLQ AMOS APRU BHMP BLSU BOQR CHOU CLMR CPQS DHRS DLOP DMQU \n",
      "ABCD AHOW APSV CIVW CMOP DGPW DOQV \n",
      "ABCD AHPV AIQR ALSU BHIS BLQV BPRU CHQU CILP CRSV DHLR DIUV DPQS \n",
      "ABCD AIJW APST BHSW BITU CILS CMTW \n",
      "ABCD AIKP ANTV AORU BIOV BKRT BNPU CINR CKUV COPT DITU DKNO DPRV \n",
      "ABCD AIOW ALNT CGOT CNUW DETW DJNO \n",
      "ABCD AIQW AKLU BGKQ BLNW DEKW DLQT \n",
      "ABCD AJQV AMNT BEQT BFJN CIJT CNOQ \n",
      "ABCD ALMP AOST CKPS CLRT DFLS DJPT \n",
      "ABCD BEGH BFMT BIKP BJLV BNOR BQSU \n",
      "ABCD BEGN BFRU BHJT BIOQ BKMV BLPW \n",
      "ABCD BELR BGNU CEGS CIRU DEPU DGJR \n",
      "ABCD BELV BFMQ CEFJ CHQV DEOQ DFVW \n",
      "ABCD BESV BFGK BHJT BIMW BLNU BPQR \n",
      "ABCD BESV BFKQ BGHM BIPW BJLU BNOT \n",
      "ABCD BFUV BINO CNTU COQV DLNV DOUW \n",
      "ABCD BLRU BOPQ CLOW CQRV DELQ DORS \n",
      "ABCD CEGQ CFRU CHSV CJTW CKNO CLMP \n",
      "ABCD CEJL CFHW CGKR CINP COQV CSTU \n",
      "ABCD DEHU DFNQ DGOR DIPT DKLM DSVW \n",
      "ABCD DEIV DFOW DGSU DHRT DJLM DKPQ \n",
      "ABCD DEJK DFMP DGST DHRW DINO DLQV \n",
      "ABCD DENP DFIK DGHR DJOS DLVW DQTU \n"
     ]
    }
   ],
   "source": [
    "# Generate different sets of game cards\n",
    "m_symbols = 4\n",
    "n_symbols = 23\n",
    "#n_symbols = m_symbols*(m_symbols-1)+1\n",
    "listc = list_combs(list_n_symbols(n_symbols),m_symbols)\n",
    "\n",
    "# Generate other gamesets, built from shuffled cards, with\n",
    "#   a handful of cards fixed at the beginning of each gameset\n",
    "fixed_cards = [tuple(x) for x in [\"ABCD\"]]\n",
    "del_subset(listc, fixed_cards)\n",
    "print(\"Other gamesets:\")\n",
    "gamesets = []\n",
    "for i in range(150):\n",
    "    random.shuffle(listc)\n",
    "    listp = prune_combs(fixed_cards+listc)\n",
    "    gamesets.append(listp)\n",
    "gamesets.sort()\n",
    "for game in gamesets:\n",
    "    print_combs(game)\n",
    "    print()"
   ]
  },
  {
   "cell_type": "code",
   "execution_count": null,
   "metadata": {},
   "outputs": [],
   "source": []
  }
 ],
 "metadata": {
  "kernelspec": {
   "display_name": "Python 3 (ipykernel)",
   "language": "python",
   "name": "python3"
  },
  "language_info": {
   "codemirror_mode": {
    "name": "ipython",
    "version": 3
   },
   "file_extension": ".py",
   "mimetype": "text/x-python",
   "name": "python",
   "nbconvert_exporter": "python",
   "pygments_lexer": "ipython3",
   "version": "3.8.0"
  }
 },
 "nbformat": 4,
 "nbformat_minor": 4
}
