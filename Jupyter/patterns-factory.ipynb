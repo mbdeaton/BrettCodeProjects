{
 "cells": [
  {
   "cell_type": "markdown",
   "metadata": {},
   "source": [
    "# Factory Design Patterns\n",
    "Brett Deaton - Summer 2023\n",
    "\n",
    "The factory method and the abstract factory make it easy to extend types that have\n",
    "multiple implementations. The client code that initiates object creation remains\n",
    "stable as new implementations are added.\n",
    "\n",
    "See [Real Python Factory Method](https://realpython.com/factory-method-python/)\n",
    "and answers on StackOverflow by\n",
    "[Tom Dalling](https://stackoverflow.com/a/5740020/4548407) and\n",
    "[Marcos Dimitrio](https://stackoverflow.com/a/4211307/4548407)."
   ]
  },
  {
   "cell_type": "markdown",
   "metadata": {},
   "source": [
    "As an example, say we have a Toaster class that has at least 2 distinct implementations:\n",
    "`Bagel` with wide slots and `Waffle` with narrow slots.\n",
    "Toasters may have two or four slots. Clients use this class in the following way:\n",
    "\n",
    "```py\n",
    "config = {\"toast_type\": \"bagel\", \"num_slots\": 2}\n",
    "toaster = ToasterFactory(config)\n",
    "toaster.make_toast()\n",
    "```"
   ]
  },
  {
   "cell_type": "markdown",
   "metadata": {},
   "source": [
    "Different patterns assign the responsibility for object creation differently:\n",
    "\n",
    "* *Simple factory* gives the responsibility for object creation to a ToasterFactory\n",
    "* *Abstract factory* is like the simple factory, but makes the ToasterFactory\n",
    "  abstract, and gives creation responsibility to concrete instances of ToasterFactory\n",
    "* *Factory method* gives the responsibility to a method of the Toaster classes"
   ]
  },
  {
   "cell_type": "markdown",
   "metadata": {},
   "source": [
    "### Simple Factory\n",
    "Here's a naive implementation of a factory class that creates various types of Toasters."
   ]
  },
  {
   "cell_type": "code",
   "execution_count": 1,
   "metadata": {},
   "outputs": [],
   "source": [
    "class Toaster:\n",
    "    def __init__(self, config):\n",
    "        if (n:=config[\"num_slots\"]) == 2 or n == 4:\n",
    "            self.num_slots = config[\"num_slots\"]\n",
    "        else:\n",
    "            raise NotImplementedError(f\"There are no {n}-slot toasters\")\n",
    "\n",
    "class Waffle(Toaster):\n",
    "    def make_toast(self):\n",
    "        print(f\"bon appétit: {self.num_slots * chr(0x1f9c7)}\")\n",
    "\n",
    "class Bagel(Toaster):\n",
    "    def make_toast(self):\n",
    "        # return one bagel emoji for every two slots\n",
    "        print(f\"bon appétit: {self.num_slots//2 * chr(0x1F96F)}\")\n",
    "\n",
    "class Paper(Toaster):\n",
    "    def make_toast(self):\n",
    "        print(chr(0x1F525))\n",
    "\n",
    "class ToasterFactory:\n",
    "    def __new__(Toaster, config):\n",
    "        match config[\"toast_type\"].lower():\n",
    "            case \"bagel\":\n",
    "                return Bagel(config)\n",
    "            case \"waffle\":\n",
    "                return Waffle(config)\n",
    "            case \"paper\":\n",
    "                return Paper(config)\n",
    "            case _:\n",
    "                raise NotImplementedError(f\"There are no {config['toast_type']} toasters\")\n"
   ]
  },
  {
   "cell_type": "code",
   "execution_count": null,
   "metadata": {},
   "outputs": [],
   "source": [
    "toaster = ToasterFactory(config={\"toast_type\": \"waffle\", \"num_slots\": 4})\n",
    "toaster.make_toast()\n",
    "type(toaster)"
   ]
  },
  {
   "cell_type": "markdown",
   "metadata": {},
   "source": [
    "### Abstract Factory"
   ]
  },
  {
   "cell_type": "code",
   "execution_count": null,
   "metadata": {},
   "outputs": [],
   "source": [
    "class ToasterFactory:\n",
    "    def __new__(Toaster, config):\n",
    "        match config[\"toast_type\"].lower():\n",
    "            case \"bagel\":\n",
    "                return Bagel(config)\n",
    "            case \"waffle\":\n",
    "                return Waffle(config)\n",
    "            case \"paper\":\n",
    "                return Paper(config)\n",
    "            case _:\n",
    "                raise NotImplementedError(f\"There are no {config['toast_type']} toasters\")"
   ]
  }
 ],
 "metadata": {
  "kernelspec": {
   "display_name": "Python 3",
   "language": "python",
   "name": "python3"
  },
  "language_info": {
   "codemirror_mode": {
    "name": "ipython",
    "version": 3
   },
   "file_extension": ".py",
   "mimetype": "text/x-python",
   "name": "python",
   "nbconvert_exporter": "python",
   "pygments_lexer": "ipython3",
   "version": "3.10.12"
  },
  "orig_nbformat": 4
 },
 "nbformat": 4,
 "nbformat_minor": 2
}
