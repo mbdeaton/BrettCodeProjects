{
 "cells": [
  {
   "attachments": {},
   "cell_type": "markdown",
   "id": "b5a061af-8a13-4ca8-ada7-9259d4d9b455",
   "metadata": {},
   "source": [
    "# N Queens Problem"
   ]
  },
  {
   "attachments": {},
   "cell_type": "markdown",
   "id": "981994f5-3b5c-4c1a-9c6f-58036e1f61df",
   "metadata": {},
   "source": [
    "Brett Deaton - Fall 2021"
   ]
  },
  {
   "attachments": {},
   "cell_type": "markdown",
   "id": "f84d9d59-22e9-4642-aced-3861892291de",
   "metadata": {},
   "source": [
    "A sandbox to play around with the n queens problem. See [OEIS A000170](https://oeis.org/A000170).\n",
    "\n",
    "My algorithm, imported below, lives in [n_queens.py](../DailyCodingProb/n_queens.py).\n",
    "Note, I have since migrated this work to its own package,\n",
    "[queens](https://github.com/mbdeaton/queens)."
   ]
  },
  {
   "attachments": {},
   "cell_type": "markdown",
   "id": "38a8b5f1-3260-4ae6-8e1c-f3e17bdb7456",
   "metadata": {},
   "source": [
    "### Setup"
   ]
  },
  {
   "cell_type": "code",
   "execution_count": null,
   "id": "a14ca2d8-4015-49e7-b784-9b1f4551e0e9",
   "metadata": {},
   "outputs": [],
   "source": [
    "# This is a hack, and the n_queens module should be replaced with a package\n",
    "import sys\n",
    "sys.path.append('../DailyCodingProb')"
   ]
  },
  {
   "cell_type": "code",
   "execution_count": null,
   "id": "90c1d27f-f524-4b8d-bdec-d2cdafe9e0c1",
   "metadata": {},
   "outputs": [],
   "source": [
    "from n_queens import NQueensConfig"
   ]
  },
  {
   "attachments": {},
   "cell_type": "markdown",
   "id": "8608590d-f1c0-4305-ac08-b5135d166b17",
   "metadata": {},
   "source": [
    "### Tests"
   ]
  },
  {
   "cell_type": "code",
   "execution_count": null,
   "id": "8ffe0717-e68e-4c68-9ecb-ccbbd1efaf36",
   "metadata": {},
   "outputs": [],
   "source": [
    "n = 10\n",
    "nq = NQueensConfig(n)"
   ]
  },
  {
   "cell_type": "code",
   "execution_count": null,
   "id": "d64b63ae-d2a8-43f5-bb18-81b1e6075a1a",
   "metadata": {},
   "outputs": [],
   "source": [
    "print(nq.num_nonattacking_configs(1), \"total nonattacking configurations for\", n, \"queens\")"
   ]
  },
  {
   "cell_type": "code",
   "execution_count": null,
   "id": "8df5bb6e-33ee-437d-a864-dd63ef094e0c",
   "metadata": {},
   "outputs": [],
   "source": [
    "nq.set_config([n//2]*n)\n",
    "nq.display_config()\n",
    "print(nq.num_nonattacking_configs(1), \"nonattacking configurations forward of the setting\")"
   ]
  },
  {
   "cell_type": "code",
   "execution_count": null,
   "id": "f8b300be-7075-47c3-9357-034e99795423",
   "metadata": {},
   "outputs": [],
   "source": [
    "print(\"Following config is valid?\", nq.find_next_nonattacking_config())\n",
    "nq.display_config()"
   ]
  },
  {
   "cell_type": "code",
   "execution_count": null,
   "id": "bdd79f26-a4ef-406d-9a17-ca404a81493e",
   "metadata": {},
   "outputs": [],
   "source": [
    "nq.find_next_random_config()\n",
    "print(\"random config\")\n",
    "nq.display_config()\n",
    "print()\n",
    "print(\"next valid config\")\n",
    "nq.find_next_nonattacking_config()\n",
    "nq.display_config()"
   ]
  },
  {
   "cell_type": "code",
   "execution_count": null,
   "id": "e30f6164-a856-4ec8-b98c-be1e2b947d07",
   "metadata": {},
   "outputs": [],
   "source": [
    "print(\"Total number of valid configurations for n queens: n=[0,1,2,...]\")\n",
    "for i in range(12):\n",
    "    print(NQueensConfig(i).num_nonattacking_configs(), end=\" \")"
   ]
  },
  {
   "cell_type": "code",
   "execution_count": null,
   "id": "90cbdf1d-9c53-42b7-9d97-f0a5ee7b9a36",
   "metadata": {},
   "outputs": [],
   "source": []
  }
 ],
 "metadata": {
  "kernelspec": {
   "display_name": "Python 3 (ipykernel)",
   "language": "python",
   "name": "python3"
  },
  "language_info": {
   "codemirror_mode": {
    "name": "ipython",
    "version": 3
   },
   "file_extension": ".py",
   "mimetype": "text/x-python",
   "name": "python",
   "nbconvert_exporter": "python",
   "pygments_lexer": "ipython3",
   "version": "3.10.6"
  }
 },
 "nbformat": 4,
 "nbformat_minor": 5
}
