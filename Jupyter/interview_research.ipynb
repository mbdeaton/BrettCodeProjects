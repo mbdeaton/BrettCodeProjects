{
 "cells": [
  {
   "cell_type": "markdown",
   "id": "6657568e-1570-40d7-864d-5096178c514f",
   "metadata": {},
   "source": [
    "# Interview Questions"
   ]
  },
  {
   "cell_type": "markdown",
   "id": "8453bff4-523a-407e-b888-8a2efe79fc3b",
   "metadata": {},
   "source": [
    "Brett Deaton - Fall 2022"
   ]
  },
  {
   "cell_type": "markdown",
   "id": "fb6cafb1-d073-44c1-85ed-4329a06e77bb",
   "metadata": {},
   "source": [
    "Some software engineer interview questions I find interesting, and my own notes on related facts and ideas."
   ]
  },
  {
   "cell_type": "markdown",
   "id": "84662fe6-d999-4669-a229-156b19fef982",
   "metadata": {},
   "source": [
    "### Network Stack\n",
    "Describe the OSI model and what's its use."
   ]
  },
  {
   "cell_type": "markdown",
   "id": "1db50fd2-39d3-4071-9349-605dce9a1278",
   "metadata": {},
   "source": [
    "The OSI layers ([theory ref](https://en.wikipedia.org/wiki/OSI_model)):\n",
    "\n",
    "1. Physical\n",
    "2. Data link\n",
    "3. Network [IP]\n",
    "4. Transport [TCP]\n",
    "5. Session [HTTP]\n",
    "6. Presentation\n",
    "7. Application"
   ]
  },
  {
   "cell_type": "code",
   "execution_count": null,
   "id": "9b408413-2674-4f87-a2bd-3fa493850c86",
   "metadata": {},
   "outputs": [],
   "source": []
  },
  {
   "cell_type": "markdown",
   "id": "8d1de6ac-9904-4bac-b63f-3ea0fb82608b",
   "metadata": {},
   "source": [
    "### Engineering Principles\n",
    "Give examples of some fundamental software engineering principles."
   ]
  },
  {
   "cell_type": "markdown",
   "id": "68d40ffc-0945-4513-bd88-af7c9202e095",
   "metadata": {},
   "source": [
    "My personal list, in relative order of importance:\n",
    "\n",
    "* Customer-first design (my own)\n",
    "* KISS: Keep it simple stupid\n",
    "* DRY: Don't repeat yourself: e.g. inheritance/composition, database normalization, modularity (e.g. functions, libraries)\n",
    "* YAGNI: (if) You ain't gonna use it (don't implement it)\n",
    "* SOLID: Single responsibility center, Open (for extension) but closed (for modification), Liskov substitution ([ref](https://en.wikipedia.org/wiki/Is-a)), Interface segregation, Dependency inversion\n",
    "* Test coverage (my own)\n",
    "* Minimize documentation (my own): e.g. semantic naming\n",
    "* Quench flame wars (my own): e.g. commit to a software stack, use a linter or style guide\n",
    "* Minimize dependencies (my own, needs some nuance)\n",
    "* Flat is better than nested (from [PEP-20](https://peps.python.org/pep-0020/))"
   ]
  },
  {
   "cell_type": "code",
   "execution_count": null,
   "id": "e7343e29-1a5e-4601-bb79-9616c5574317",
   "metadata": {},
   "outputs": [],
   "source": []
  },
  {
   "cell_type": "markdown",
   "id": "76f2a4d8-8ce9-4917-9dc7-ddb426253730",
   "metadata": {
    "tags": []
   },
   "source": [
    "### Browsers and the Internet\n",
    "What happens when I type `https://url` in a browser?"
   ]
  },
  {
   "cell_type": "markdown",
   "id": "8791376c-994b-41c2-a1fd-2dda39ef8ed0",
   "metadata": {},
   "source": [
    "Big picture: Browser sends a request to a server, the server sends back the resources (usually an html page which then may initiate further requests for resources like CSS and JavaScript), then the browser renders the content."
   ]
  },
  {
   "cell_type": "markdown",
   "id": "3ccaf80c-df34-4b2a-a4db-091c2d584f2a",
   "metadata": {},
   "source": [
    "In more detail ([theory ref](https://aws.amazon.com/blogs/mobile/what-happens-when-you-type-a-url-into-your-browser/), [practical ref](https://www.redhat.com/sysadmin/sysadmin-essentials-networking-basics)):\n",
    "\n",
    "1. Browser looks up IP address using DNS\n",
    "2. Browser initiates TCP connection\n",
    "3. Browser sends HTTP request to server\n",
    "4. Server sends back resources\n",
    "5. Browser renders the response"
   ]
  },
  {
   "cell_type": "code",
   "execution_count": null,
   "id": "5b80703a-f909-4cfd-a705-f343233cc0a2",
   "metadata": {},
   "outputs": [],
   "source": []
  },
  {
   "cell_type": "markdown",
   "id": "ca2087b1-c0af-4c15-8ddc-d0e1a3feb70c",
   "metadata": {
    "tags": []
   },
   "source": [
    "### Security\n",
    "Describe some of the top OWASP security vulnerabilities."
   ]
  },
  {
   "cell_type": "markdown",
   "id": "bf7af85c-b8e0-435c-8038-2eb3bc3579b3",
   "metadata": {},
   "source": [
    "OWASP top-10 ([2021 ref](https://owasp.org/Top10/)):\n",
    "\n",
    "1. Broken access control\n",
    "2. Cryptographic failures\n",
    "3. Injection\n",
    "4. Insecure design\n",
    "5. Security misconfiguration\n",
    "6. Vulnerable and outdated components\n",
    "7. Identification and authentication failures\n",
    "8. Software and data integrity failures\n",
    "9. Security logging and monitoring failures\n",
    "10. Server-side request forgery"
   ]
  },
  {
   "cell_type": "markdown",
   "id": "350470a8-fde9-4885-8674-fa831e4fa4cb",
   "metadata": {},
   "source": [
    "### Authentication\n",
    "Explain SSH. Explain the additional security offered by HTTPS vs HTTP. Explain two-factor authentication methods."
   ]
  },
  {
   "cell_type": "code",
   "execution_count": null,
   "id": "383d81e0-ee3b-43f9-aa85-bea2bd5ea3c1",
   "metadata": {},
   "outputs": [],
   "source": []
  }
 ],
 "metadata": {
  "kernelspec": {
   "display_name": "Python 3 (ipykernel)",
   "language": "python",
   "name": "python3"
  },
  "language_info": {
   "codemirror_mode": {
    "name": "ipython",
    "version": 3
   },
   "file_extension": ".py",
   "mimetype": "text/x-python",
   "name": "python",
   "nbconvert_exporter": "python",
   "pygments_lexer": "ipython3",
   "version": "3.10.6"
  }
 },
 "nbformat": 4,
 "nbformat_minor": 5
}
