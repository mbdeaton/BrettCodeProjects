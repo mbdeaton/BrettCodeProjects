{
 "cells": [
  {
   "cell_type": "markdown",
   "metadata": {},
   "source": [
    "# Notes on Intro to Python"
   ]
  },
  {
   "cell_type": "markdown",
   "metadata": {},
   "source": [
    "Brett Deaton's notes on Dean Steven's class at SEL -- May 2021"
   ]
  },
  {
   "cell_type": "markdown",
   "metadata": {},
   "source": [
    "#### Brett's Ideas"
   ]
  },
  {
   "cell_type": "markdown",
   "metadata": {},
   "source": [
    "Class distinctions:\n",
    "* learn to hack (SPWP), write production code (ITP)\n",
    "* in my own words (SPWP), in formal language (ITP)"
   ]
  },
  {
   "cell_type": "markdown",
   "metadata": {},
   "source": [
    "Main concepts to understand to build up to this class:\n",
    "* type\n",
    "* objects/references/hashes\n",
    "* functions (args, return values)\n",
    "* classes\n",
    "* frame/stack/runtime\n",
    "* mutability"
   ]
  },
  {
   "cell_type": "markdown",
   "metadata": {},
   "source": [
    "#### Overview and Syntax (Mon, Tue)"
   ]
  },
  {
   "cell_type": "code",
   "execution_count": null,
   "metadata": {},
   "outputs": [],
   "source": [
    "# Everything is an object\n",
    "anum = 4211*8321\n",
    "print(type(anum), \"is an object?\", isinstance(anum, object))\n",
    "print(type(str(anum)), \"is an object?\", isinstance(str(anum), object))\n",
    "print(type(print), \"is an object?\", isinstance(print, object))\n",
    "print(type(None), \"is an object?\", isinstance(None, object))"
   ]
  },
  {
   "cell_type": "code",
   "execution_count": null,
   "metadata": {},
   "outputs": [],
   "source": [
    "# Strong dynamic typing\n",
    "# Type conversion just creates a new object\n",
    "anum = 42\n",
    "astr = str(anum)\n",
    "print(repr(anum), repr(astr))"
   ]
  },
  {
   "cell_type": "code",
   "execution_count": null,
   "metadata": {},
   "outputs": [],
   "source": [
    "# Memory management\n",
    "# Garbage collection *can* run when reference count is 0\n",
    "# (Note, refcounts of simple objects are often not 1 because the objects\n",
    "# they reference are used by internal machinery of the runtime.)\n",
    "import sys\n",
    "anum = 38848577387277277271\n",
    "sys.getrefcount(anum)"
   ]
  },
  {
   "cell_type": "code",
   "execution_count": null,
   "metadata": {},
   "outputs": [],
   "source": [
    "# The := (walrus) operator\n",
    "# Note, this operator was only introduced in 3.8\n",
    "if b := (anum>3):\n",
    "    print(b)"
   ]
  },
  {
   "cell_type": "code",
   "execution_count": null,
   "metadata": {},
   "outputs": [],
   "source": [
    "# Docstrings are anonymous strings bound to an object\n",
    "def printy():\n",
    "    \"\"\"Print a happy icon\"\"\"\n",
    "    print(\":)\")\n",
    "\n",
    "print(printy.__doc__)\n",
    "print(\"---\")\n",
    "help(printy)"
   ]
  },
  {
   "cell_type": "code",
   "execution_count": null,
   "metadata": {},
   "outputs": [],
   "source": [
    "# Indentation does not create new scope\n",
    "lbl2 = 1\n",
    "lbl3 = 2\n",
    "if lbl2 < 9:\n",
    "    lbl3 = 42\n",
    "print(lbl3)"
   ]
  },
  {
   "cell_type": "code",
   "execution_count": null,
   "metadata": {},
   "outputs": [],
   "source": [
    "# ... New scope *is* created by modules, classes, and functions\n",
    "anum = 42\n",
    "def newscope(anum):\n",
    "    anum = 7\n",
    "    return anum\n",
    "\n",
    "print(newscope(anum))\n",
    "print(anum)"
   ]
  },
  {
   "cell_type": "code",
   "execution_count": null,
   "metadata": {},
   "outputs": [],
   "source": [
    "# ... Example of scope control from official Python tutorial\n",
    "def scope_test():\n",
    "    def do_local():\n",
    "        spam = \"local spam\"\n",
    "\n",
    "    def do_nonlocal():\n",
    "        nonlocal spam\n",
    "        spam = \"nonlocal spam\"\n",
    "\n",
    "    def do_global():\n",
    "        global spam\n",
    "        spam = \"global spam\"\n",
    "\n",
    "    spam = \"test spam\"\n",
    "    do_local()\n",
    "    print(\"After local assignment:\", spam)\n",
    "    do_nonlocal()\n",
    "    print(\"After nonlocal assignment:\", spam)\n",
    "    do_global()\n",
    "    print(\"After global assignment:\", spam)\n",
    "\n",
    "scope_test()\n",
    "print(\"In global scope:\", spam)"
   ]
  },
  {
   "cell_type": "code",
   "execution_count": null,
   "metadata": {},
   "outputs": [],
   "source": [
    "# Whether a label gets bound to an object is decided at runtime\n",
    "del lbl3\n",
    "lbl2 = 7\n",
    "if lbl2 > 9:\n",
    "    lbl3 = 42\n",
    "print(lbl3) # NameError becaue if-block never executed"
   ]
  },
  {
   "cell_type": "code",
   "execution_count": null,
   "metadata": {},
   "outputs": [],
   "source": [
    "# None is a special object, a singleton so only one lives in runtime\n",
    "def compnone(argn):\n",
    "    if argn is None: # Test identity not equality\n",
    "        print(repr(argn), \"is None\")\n",
    "    else:\n",
    "        print(repr(argn), \"is not None\")\n",
    "\n",
    "compnone(None)\n",
    "compnone(False)"
   ]
  },
  {
   "cell_type": "code",
   "execution_count": null,
   "metadata": {},
   "outputs": [],
   "source": [
    "# Keywords vs built-in functions\n",
    "# Keywords cannot be reassigned\n",
    "lista = list(\"abcde\")\n",
    "for try in lista: # this wouldn't SyntaxError if we used `for list`\n",
    "    print(list, end=\" \")"
   ]
  },
  {
   "cell_type": "code",
   "execution_count": null,
   "metadata": {},
   "outputs": [],
   "source": [
    "# Compound statements are introduced with a colon\n",
    "x = 10\n",
    "if int(x) >= 10:          # clause header\n",
    "    print(\"big number!\")  # clause suite"
   ]
  },
  {
   "cell_type": "code",
   "execution_count": null,
   "metadata": {},
   "outputs": [],
   "source": [
    "# Functions always return something\n",
    "# ...even implicitly, in which case, they return None\n",
    "def my_func():\n",
    "    print(\"Hello\")\n",
    "x = my_func()\n",
    "print(x)"
   ]
  },
  {
   "cell_type": "code",
   "execution_count": null,
   "metadata": {},
   "outputs": [],
   "source": [
    "# Dynamic typing\n",
    "# No need to overload a function, objects define their own magic\n",
    "# methods to specify how they want to be handled\n",
    "def addprint(arg1, arg2):\n",
    "    print(arg1 + arg2)\n",
    "addprint(7,11)\n",
    "addprint(\"ab\", \"cde\")\n",
    "addprint([1, 2, 3], [\"a\", \"b\"])"
   ]
  },
  {
   "cell_type": "code",
   "execution_count": null,
   "metadata": {},
   "outputs": [],
   "source": [
    "# Python runtime can be expanded\n",
    "# Add references from another file to this runtime\n",
    "\n",
    "# say_hi.py in current working dir should include the code:\n",
    "#def say_hi(aname):\n",
    "#    \"\"\"Print a greeting to someone\"\"\"\n",
    "#    print(\"Hello\", aname)\n",
    "#if __name__ == \"__main__\":\n",
    "#    import sys\n",
    "#    say_hi(sys.argv[1])\n",
    "\n",
    "import say_hi\n",
    "say_hi.say_hi(\"Tom\")"
   ]
  },
  {
   "cell_type": "code",
   "execution_count": null,
   "metadata": {},
   "outputs": [],
   "source": [
    "# Difference between == and `is`\n",
    "def comp(x, y):\n",
    "    if x == y:\n",
    "        print(x, \"evaluates to\", y)\n",
    "    if x is y:\n",
    "        print(x, \"is\", y)\n",
    "\n",
    "        anum = 2**10\n",
    "bnum = 2**10\n",
    "comp(anum, bnum)\n",
    "comp(0, 0.0)\n",
    "comp(0,0)"
   ]
  },
  {
   "cell_type": "markdown",
   "metadata": {},
   "source": [
    "#### Python Object Model (Tue, Wed)"
   ]
  },
  {
   "cell_type": "code",
   "execution_count": null,
   "metadata": {},
   "outputs": [],
   "source": [
    "# Object references\n",
    "# The object contains the type info, not the label\n",
    "label7 = 7\n",
    "print(3+label7)\n",
    "label7 = \"7\"\n",
    "print(3+label7) # TypeError"
   ]
  },
  {
   "cell_type": "code",
   "execution_count": null,
   "metadata": {},
   "outputs": [],
   "source": [
    "# Problem of the Day before Wed's class\n",
    "# Sort a comma-separated string of names by last name\n",
    "def by_last(names_str):\n",
    "    \"\"\"Sort strings like \"A M Z,B Y\" by last name and return 2D list\"\"\"\n",
    "    name_lst = name_str.split(sep=\",\")\n",
    "    name_lst = list(map(lambda x : x.split(), name_lst))\n",
    "    name_lst.sort(key = lambda x : x[-1])\n",
    "    return name_lst\n",
    "\n",
    "def display_names(name_lst):\n",
    "    \"\"\"Pretty-print a 2D list of names like [[B, Y], [A, M, Z]]\"\"\"\n",
    "    for i, name in enumerate(name_lst):\n",
    "        print(i+1, \") \", end=\"\", sep=\"\")\n",
    "        for part in name:\n",
    "            print(part, end=\" \", sep=\"\")\n",
    "        i += 1\n",
    "        print()\n",
    "        \n",
    "name_str = \"Michael Brett Deaton,Jim Gist,Manisha Mallik,Matt Willington,Miguel Reyna,Nestor Orozco,Nischal Sharma,Rodrigo Abboud,Sergio Hernandez,Shelia Chandler,Shivank Singh,Ximena Briceno\"\n",
    "display_names(by_last(name_str))"
   ]
  },
  {
   "cell_type": "code",
   "execution_count": null,
   "metadata": {},
   "outputs": [],
   "source": [
    "# ... Dean's way\n",
    "def by_last_deans(name_str):\n",
    "    \"\"\"Sort strings like \"A M Z,B Y\" by last name and return list of tuples\"\"\"\n",
    "    name_lst = name_str.split(\",\")\n",
    "    name_tpl = [tuple(name_pair.split()) for name_pair in name_lst]\n",
    "    return sorted(name_tpl, key=lambda x : x[-1])\n",
    "\n",
    "def display_names_deans(name_lst):\n",
    "    \"\"\"Pretty-print a list of name tuples like [(B, Y), (A, ,M, Z)]\"\"\"\n",
    "    for i, name_tpl in enumerate(name_lst):\n",
    "        print(f\"{i:>2}) {' '.join(name_tpl)}\")\n",
    "\n",
    "name_str = \"Michael Brett Deaton,Jim Gist,Manisha Mallik,Matt Willington,Miguel Reyna,Nestor Orozco,Nischal Sharma,Rodrigo Abboud,Sergio Hernandez,Shelia Chandler,Shivank Singh,Ximena Briceno\"\n",
    "display_names_deans(by_last_deans(name_str))"
   ]
  },
  {
   "cell_type": "code",
   "execution_count": null,
   "metadata": {},
   "outputs": [],
   "source": [
    "# Mutable objects retain their IDs after mutating\n",
    "name_lst = [\"Brett\", \"Sergio\"]\n",
    "print(id(name_lst))\n",
    "name_lst.extend([\"Marie\", \"Christina\"])\n",
    "print(id(name_lst))"
   ]
  },
  {
   "cell_type": "code",
   "execution_count": null,
   "metadata": {},
   "outputs": [],
   "source": [
    "# Pass by object reference\n",
    "# Leads to some tricky differences between mutable and immutable arguments\n",
    "def afunc(numa, lsta, lstb):\n",
    "    numa = 7 # rebind locally\n",
    "    lsta.append(7) # modify object\n",
    "    lstb = [7] # rebind object\n",
    "    locn = (\"Inside afunc:\\n\"\n",
    "            \"  {} is: {}\\n\"\n",
    "            \"  {} is: {}\\n\"\n",
    "            \"  {} is: {}\").format(\n",
    "            \"numa\", numa,\n",
    "            \"lsta\", lsta,\n",
    "            \"lstb\", lstb,)\n",
    "    print(locn)\n",
    "\n",
    "anum = 42\n",
    "alst = [\"ab\", 42]\n",
    "blst = [42, 43, 44.4]\n",
    "\n",
    "afunc(anum,alst,blst)\n",
    "anum, alst, blst # only the mutable object that was modified inside the function is changed"
   ]
  },
  {
   "cell_type": "code",
   "execution_count": null,
   "metadata": {},
   "outputs": [],
   "source": [
    "# Functions create new scope\n",
    "tval = [char for char in \"Brett\"]\n",
    "def silly(tval):\n",
    "    tval = 7\n",
    "    return tval\n",
    "print(tval)\n",
    "print(silly(tval))\n",
    "print(tval)"
   ]
  },
  {
   "cell_type": "code",
   "execution_count": null,
   "metadata": {},
   "outputs": [],
   "source": [
    "# Problem(s) of the day before Thr's class\n",
    "# Query user for a whole number, N, then:\n",
    "# 1) print \"Hello World!\" that N times\n",
    "# 2) report whether 5 <= N <= 10\n",
    "def func():\n",
    "    got_val = False\n",
    "    while not got_val:\n",
    "        try:\n",
    "            val = int(input(\"enter a whole number: \"))\n",
    "            if val < 0:\n",
    "                raise ValueError\n",
    "            got_val = True\n",
    "        except ValueError:\n",
    "            print(\"invalid input\")\n",
    "\n",
    "    print(\"Hello World!   \"*val)\n",
    "    \n",
    "    MIN, MAX = 5, 10\n",
    "    in_range = (val >= MIN) and (val <= MAX)\n",
    "    print(\"Your number is \",\n",
    "          \"\" if in_range else \"not \",\n",
    "          \"between 5 and 10 inclusive\",\n",
    "          sep=\"\")\n",
    "\n",
    "func()"
   ]
  },
  {
   "cell_type": "markdown",
   "metadata": {},
   "source": [
    "#### Python Data Structures (Thr, Fri)"
   ]
  },
  {
   "cell_type": "code",
   "execution_count": null,
   "metadata": {},
   "outputs": [],
   "source": [
    "# Things you can do with lists\n",
    "lst1 = [\"a\", 2, (\"tu\", \"pl\", \"e\"), 19.5]\n",
    "lst2 = \"ab cd ef\".split()\n",
    "lst3 = list(\"mnopq\")\n",
    "lst4 = [2*x%3 for x in range(4)]\n",
    "lst1.insert(3, 3.33)\n",
    "lst2.pop(1)\n",
    "lst3.remove(\"p\")\n",
    "lst4.count(0)"
   ]
  },
  {
   "cell_type": "code",
   "execution_count": null,
   "metadata": {},
   "outputs": [],
   "source": [
    "# Tuples are hashable but Lists are not hashable\n",
    "tpl1 = (1,2,3)\n",
    "hash(tpl1) # fine\n",
    "lst1 = [1, 2, 3]\n",
    "hash(lst1) # TypeError"
   ]
  },
  {
   "cell_type": "code",
   "execution_count": null,
   "metadata": {},
   "outputs": [],
   "source": [
    "# ... even tuples of lists are unhashable\n",
    "tpl2 = (1,2,[3,4])\n",
    "hash(tpl2) # TypeError"
   ]
  },
  {
   "cell_type": "code",
   "execution_count": null,
   "metadata": {},
   "outputs": [],
   "source": [
    "# ... this is because Python uses hash lookup tables and\n",
    "# needs hashable objects to be immutable\n",
    "dct1 = {\"a\":[1,2], \"z\":[\"bonnie\",\"clyde\"]}\n",
    "dct2 = {[\"a\"]:[1,2]} # TypeError"
   ]
  },
  {
   "cell_type": "code",
   "execution_count": null,
   "metadata": {},
   "outputs": [],
   "source": [
    "# lists are sequential chunks of memory (C-arrays in CPython)\n",
    "# A good article: https://www.laurentluce.com/posts/python-list-implementation/\n",
    "x = 32\n",
    "lst1 = [32, 33, 41, 42, 43, x]\n",
    "\n",
    "# Note, this doesn't demonstrate sequential memory of references,\n",
    "# just the addresses of the objects, which are certainly not sequential.\n",
    "# Need to find an example that works, maybe using struct\n",
    "print(\"ids are: \", list(map(id, lst1)))\n",
    "print(\"differences between ids are: \",\n",
    "      [id(p)-id(n) for n, p in zip(lst1[:-1], lst1[1:])])"
   ]
  },
  {
   "cell_type": "code",
   "execution_count": null,
   "metadata": {},
   "outputs": [],
   "source": [
    "# Replace long runs of elifs (c-style switch statement) with dictionaries\n",
    "val = int(input(\"Pick a whole number 1-5: \"))\n",
    "numwrds = (\"One\", \"Two\", \"Three\", \"Four\", \"Five\")\n",
    "\n",
    "# Instead of this:\n",
    "#if val == 1:\n",
    "#    print(numwrds[0])\n",
    "#elif val == 2:\n",
    "#    print(numwrds[1])\n",
    "#elif val == 3:\n",
    "#    print(numwrds[2])\n",
    "#...\n",
    "#else:\n",
    "#    print(\"Invalid input\")\n",
    "\n",
    "# Do this:\n",
    "valdct = {i+1:wrd for i,wrd in enumerate(numwrds)}\n",
    "try:\n",
    "    print(\"You chose\", valdct[val])\n",
    "except KeyError:\n",
    "    print(\"Invalid input\")"
   ]
  },
  {
   "cell_type": "code",
   "execution_count": 1,
   "metadata": {},
   "outputs": [
    {
     "name": "stdout",
     "output_type": "stream",
     "text": [
      "[34, 21, 13, 34]\n",
      "[13, 21, 34]\n"
     ]
    }
   ],
   "source": [
    "# Problem of the day (1) before Fri's class\n",
    "# Given a list of numbers\n",
    "# a) print the elements in a given range, sorted\n",
    "# b) remove duplicates from the original list\n",
    "class ListTrimmer:\n",
    "    \"\"\"Trims a list for only those values inclusive to a given range\"\"\"\n",
    "    def __init__(self, low, high):\n",
    "        self.l = low\n",
    "        self.h = high\n",
    "\n",
    "    def trim(self, lst):\n",
    "        \"\"\"Trim input lst of out-of-range values and return a copy\"\"\"\n",
    "        lst_trim = []\n",
    "        for x in lst:\n",
    "            if x>=self.l and x<=self.h:\n",
    "                lst_trim.append(x)\n",
    "        return lst_trim\n",
    "\n",
    "    def trim_set_sort(self, lst):\n",
    "        \"\"\"Trim input lst and return a sorted unique set as a list\"\"\"\n",
    "        lst_trim = list(set(self.trim(lst))) # trim and remove duplicates\n",
    "        lst_trim.sort()\n",
    "        return lst_trim\n",
    "\n",
    "mylist = [34, 1, 55, 1, 2, 21, 3, 8, 13, 5, 34, 89]\n",
    "t = ListTrimmer(10,50)\n",
    "print(t.trim(mylist))\n",
    "print(t.trim_set_sort(mylist))"
   ]
  },
  {
   "cell_type": "code",
   "execution_count": null,
   "metadata": {},
   "outputs": [],
   "source": [
    "# ... Dean's approach\n",
    "mylist = [34, 1, 55, 1, 2, 21, 3, 8, 13, 5, 34, 89]\n",
    "sorted([v for v in mylist if 10<=v and v<=50])"
   ]
  },
  {
   "cell_type": "code",
   "execution_count": null,
   "metadata": {},
   "outputs": [],
   "source": [
    "# Problem of the day (2) before Fri's class\n",
    "# Calculate the number of occurences of each unique word in a string\n",
    "class FreqTable:\n",
    "    \"\"\"A frequency table of words found in the initialization string\"\"\"\n",
    "    def __init__(self, s):\n",
    "        self.wdct = {}\n",
    "        for w in s.split():\n",
    "            if w.lower() not in self.wdct:\n",
    "                self.wdct[w.lower()] = 1\n",
    "            else:\n",
    "                self.wdct[w.lower()] += 1\n",
    "\n",
    "    def print_table(self):\n",
    "        \"\"\"Pretty-print the frequency table\"\"\"\n",
    "        tabl = dict(sorted(self.wdct.items(), key=lambda x : x[1], reverse=True))\n",
    "        for k, v in tabl.items():\n",
    "            print(f\"{k:>12} {v:<3}\")\n",
    "    \n",
    "s = (\"We arrived at the bus station early but waited until \"\n",
    "     \"noon for the bus because the bus was not early so we were late\")\n",
    "t = FreqTable(s)\n",
    "t.print_table()"
   ]
  },
  {
   "cell_type": "code",
   "execution_count": null,
   "metadata": {},
   "outputs": [],
   "source": [
    "# ... or a functional solution\n",
    "def count_words(s):\n",
    "    \"\"\"Return a frequency table (as a dict) of words in the input string\"\"\"\n",
    "    wdct = {}\n",
    "    for w in s.split():\n",
    "        if w.lower() not in wdct:\n",
    "            wdct[w.lower()] = 1\n",
    "        else:\n",
    "            wdct[w.lower()] += 1\n",
    "    return wdct\n",
    "\n",
    "def print_freq_table(d):\n",
    "    \"\"\"Pretty-print the frequency table\"\"\"\n",
    "    tabl = dict(sorted(d.items(), key=lambda x : x[1], reverse=True))\n",
    "    print(tabl)\n",
    "    \n",
    "s = (\"We arrived at the bus station early but waited until \"\n",
    "     \"noon for the bus because the bus was not early so we were late\")\n",
    "print_freq_table(count_words(s))"
   ]
  },
  {
   "cell_type": "code",
   "execution_count": null,
   "metadata": {},
   "outputs": [],
   "source": [
    "# ... Dean's approach with default dictionary\n",
    "from collections import defaultdict\n",
    "ddict = defaultdict(int) # initialize any new element to default int (0)\n",
    "s = (\"We arrived at the bus station early but waited until \"\n",
    "     \"noon for the bus because the bus was not early so we were late\")\n",
    "#llst = s.lower().split()\n",
    "for word in s.split():\n",
    "    ddict[word.lower()] += 1\n",
    "ddict"
   ]
  },
  {
   "cell_type": "code",
   "execution_count": null,
   "metadata": {},
   "outputs": [],
   "source": [
    "# ... Dean's even simpler approach\n",
    "from collections import Counter\n",
    "s = (\"We arrived at the bus station early but waited until \"\n",
    "     \"noon for the bus because the bus was not early so we were late\")\n",
    "cdict = Counter(s.lower().split())\n",
    "cdict"
   ]
  },
  {
   "cell_type": "code",
   "execution_count": null,
   "metadata": {},
   "outputs": [],
   "source": [
    "# Ways to iterate across a dictionary\n",
    "\n",
    "# across keys\n",
    "for k in ddict:\n",
    "    print(k, end=\" \")\n",
    "print(\"\\n\")\n",
    "\n",
    "# across values\n",
    "for v in ddict.values():\n",
    "    print(v, end=\" \")\n",
    "print(\"\\n\")\n",
    "    \n",
    "# across k,v pairs\n",
    "for i in ddict.items():\n",
    "    print(i, end=\" \")"
   ]
  },
  {
   "cell_type": "code",
   "execution_count": null,
   "metadata": {},
   "outputs": [],
   "source": [
    "# Nested functions\n",
    "# Have ability to access variables in enclosing scope\n",
    "def outer(anarg):\n",
    "    mult = 3\n",
    "    def inner(myarg):\n",
    "        xxx = mult*myarg\n",
    "        print(\"inner: \"+str(xxx))\n",
    "    for i in range(mult):\n",
    "        inner(anarg)\n",
    "\n",
    "outer(\"z\")"
   ]
  },
  {
   "cell_type": "code",
   "execution_count": null,
   "metadata": {},
   "outputs": [],
   "source": [
    "# Functions can return tuples containing multiple objects\n",
    "def rtn_mul():\n",
    "    return 23, 19.4, \"Hi\"\n",
    "\n",
    "rval = rtn_mul()\n",
    "print (rval)\n",
    "\n",
    "i, f, s = rtn_mul()\n",
    "print(i, f, s)\n",
    "\n",
    "x, _, z = rtn_mul()\n",
    "print(x, z)"
   ]
  },
  {
   "cell_type": "code",
   "execution_count": null,
   "metadata": {},
   "outputs": [],
   "source": [
    "# Functions have different kinds of arguments\n",
    "# required/default\n",
    "# positional/keyword\n",
    "# packed/unpackable (?)"
   ]
  },
  {
   "cell_type": "code",
   "execution_count": null,
   "metadata": {},
   "outputs": [],
   "source": [
    "# Context management\n",
    "with open(r\"C:\\Temp\\scratch.txt\") as handle:\n",
    "    lines = handle.readlines()\n",
    "print(lines)"
   ]
  },
  {
   "cell_type": "code",
   "execution_count": null,
   "metadata": {},
   "outputs": [],
   "source": [
    "# Be careful about (or really just don't) use mutables as default args\n",
    "def default(dlist=[]):\n",
    "    print(dlist)\n",
    "    dlist.append(41)\n",
    "\n",
    "default()\n",
    "default()\n",
    "default()"
   ]
  },
  {
   "cell_type": "code",
   "execution_count": null,
   "metadata": {},
   "outputs": [],
   "source": [
    "# Variable parameter lists\n",
    "def var_args(*args):\n",
    "    print(type(args))\n",
    "    print(args)\n",
    "\n",
    "var_args(tupa)\n",
    "var_args(*tupa)\n",
    "var_args(list(tupa))\n",
    "var_args(*list(tupa))\n",
    "var_args()"
   ]
  },
  {
   "cell_type": "code",
   "execution_count": null,
   "metadata": {},
   "outputs": [],
   "source": [
    "# Explode operator\n",
    "def three_args(a,b,c):\n",
    "    print(a, b, c)\n",
    "\n",
    "tupa = (1,2,3)\n",
    "three_args(*tupa)"
   ]
  },
  {
   "cell_type": "code",
   "execution_count": null,
   "metadata": {},
   "outputs": [],
   "source": [
    "# Keyword arguments\n",
    "def kwd_args(**kwargs):\n",
    "    print(type(kwargs))\n",
    "    print(kwargs)\n",
    "\n",
    "kwd_args(a=41, b=\"rodrigo\")\n",
    "adict = {\"a\":\"this\", \"b\":\"that\"}\n",
    "kwd_args(**adict)"
   ]
  },
  {
   "cell_type": "code",
   "execution_count": null,
   "metadata": {},
   "outputs": [],
   "source": [
    "# Defensive programming with named keyword args\n",
    "# You'll get a KeyError if you just access a key that wasn't provided\n",
    "# Instead use exception handler, or dict.get\n",
    "def kwd_args(**kwargs):\n",
    "    print(kwargs.get(\"key\", \"?!\"))\n",
    "\n",
    "adict = {\"a\":\"this\", \"b\":\"that\"}\n",
    "kwd_args(**adict)"
   ]
  },
  {
   "cell_type": "code",
   "execution_count": null,
   "metadata": {},
   "outputs": [],
   "source": [
    "# Derived classes\n",
    "class A:\n",
    "    def __init__(self, a):\n",
    "        self.a = a\n",
    "\n",
    "class B(A):\n",
    "    def __init__(self, a, b):\n",
    "        super().__init__(a)\n",
    "        self.b = b\n",
    "        \n",
    "aclass = A(\"41\")\n",
    "print(aclass.a)\n",
    "bclass = B(\"41\", \"ab\")\n",
    "print(bclass.a, bclass.b)"
   ]
  },
  {
   "cell_type": "code",
   "execution_count": null,
   "metadata": {},
   "outputs": [],
   "source": [
    "# Everything is public in Python\n",
    "# But there is a conventions of:\n",
    "# * \"_\" prefix:  sort of private\n",
    "# * \"__\" prefix: really private (sort of protected with name mangling)\n",
    "class MC:\n",
    "    mca = 23  # class attribute\n",
    "    def __init__(self, c, d, e):\n",
    "        self._c = c\n",
    "        self._d = d\n",
    "        _e = e # probably unexpected\n",
    "        self.__secret = c+d\n",
    "        def __str__(self):\n",
    "            fstr = (\"mca={};_c={}...soforth\")\n",
    "\n",
    "m = MC(2,6,7)\n",
    "print(m)\n",
    "\n",
    "# ....finish this by demoing name mangling, but you can still access __secret"
   ]
  },
  {
   "cell_type": "code",
   "execution_count": null,
   "metadata": {},
   "outputs": [],
   "source": [
    "# Encapsulation ... Dean has a good demo MC2 to explore getters and setters"
   ]
  },
  {
   "cell_type": "code",
   "execution_count": null,
   "metadata": {},
   "outputs": [],
   "source": [
    "# Ask for forgiveness not permission\n",
    "# try, except, finally\n",
    "md = {v:k for k,v in enumerate(list(\"dean\"))}\n",
    "\n",
    "# not very pythonic\n",
    "def attempt(d):\n",
    "    if \"key\" in d:\n",
    "        print(d[\"key\"])\n",
    "    else:\n",
    "        print(\"unknown key\")\n",
    "\n",
    "def attempt_1(d):\n",
    "    try:\n",
    "        print(d[\"key\"])\n",
    "    except KeyError as ke:\n",
    "        print(ke)\n",
    "\n",
    "# ... finish"
   ]
  },
  {
   "cell_type": "code",
   "execution_count": null,
   "metadata": {},
   "outputs": [],
   "source": [
    "# Final exercise\n",
    "# Instructions in the string `astr` below.\n",
    "# Output might look something like:\n",
    "# ...\n",
    "# helps    : Occurrences 1; Sentences: [2]\n",
    "# how      : Occurrences 2; Sentences: [3, 5]\n",
    "# ...\n",
    "astr = (\"In order to help identify the best future employee owners we ask \"\n",
    "        \"candidates to complete a small coding task. This helps us evaluate \"\n",
    "        \"the ability of an individual to generate a reasonable solution to \"\n",
    "        \"a programming problem. Your solution gives us some insight into how \"\n",
    "        \"you might perform on real world projects. Please take this paragraph \"\n",
    "        \"of text and generate an alphabetized list of the unique words that \"\n",
    "        \"it contains. After each word tell us how many times the word \"\n",
    "        \"appeared and in what sentences the word appeared. There should not \"\n",
    "        \"be any tricky punctuation in the test paragraph.\")\n",
    "words = [s.split() for s in astr.lower().split(\".\")]\n",
    "wdct = {}\n",
    "for i, s in enumerate(words):\n",
    "    for w in s:\n",
    "        if w not in wdct:\n",
    "            wdct[w] = [1, [i+1]]\n",
    "        else:\n",
    "            wdct[w][0] += 1      # increment wordcount\n",
    "            wdct[w][1].append(i+1) # record location\n",
    "wdct\n",
    "for x in wdct.items():\n",
    "    print(f\"{x[0]:<12}: Occurrences {x[1][0]}; Sentences: {x[1][1]}\")"
   ]
  },
  {
   "cell_type": "code",
   "execution_count": null,
   "metadata": {},
   "outputs": [],
   "source": []
  }
 ],
 "metadata": {
  "kernelspec": {
   "display_name": "Python 3",
   "language": "python",
   "name": "python3"
  },
  "language_info": {
   "codemirror_mode": {
    "name": "ipython",
    "version": 3
   },
   "file_extension": ".py",
   "mimetype": "text/x-python",
   "name": "python",
   "nbconvert_exporter": "python",
   "pygments_lexer": "ipython3",
   "version": "3.8.10"
  }
 },
 "nbformat": 4,
 "nbformat_minor": 4
}
