{
 "cells": [
  {
   "cell_type": "markdown",
   "id": "6657568e-1570-40d7-864d-5096178c514f",
   "metadata": {},
   "source": [
    "# Tone Spiral"
   ]
  },
  {
   "cell_type": "markdown",
   "id": "8453bff4-523a-407e-b888-8a2efe79fc3b",
   "metadata": {},
   "source": [
    "Brett Deaton - Fall 2023"
   ]
  },
  {
   "cell_type": "markdown",
   "id": "fb6cafb1-d073-44c1-85ed-4329a06e77bb",
   "metadata": {},
   "source": [
    "A representation of pure tones in shapes and sounds."
   ]
  },
  {
   "cell_type": "markdown",
   "id": "0f0d527a",
   "metadata": {},
   "source": [
    "## Usage"
   ]
  },
  {
   "cell_type": "code",
   "execution_count": null,
   "id": "989a05bf",
   "metadata": {},
   "outputs": [],
   "source": [
    "scale = Major(\"Ab\") # A flat\n",
    "play(scale)\n",
    "#draw(scale)"
   ]
  },
  {
   "cell_type": "markdown",
   "id": "10ecc8f6",
   "metadata": {},
   "source": [
    "## Definitions"
   ]
  },
  {
   "cell_type": "code",
   "execution_count": null,
   "id": "f48ad2e0",
   "metadata": {},
   "outputs": [],
   "source": [
    "class Scale:\n",
    "    def freq_from_name(self, key_name):\n",
    "        pass"
   ]
  },
  {
   "cell_type": "code",
   "execution_count": null,
   "id": "01feb903",
   "metadata": {},
   "outputs": [],
   "source": [
    "class Major(Scale):\n",
    "    def __init__(self, key_name):\n",
    "        self.key_name = key_name\n",
    "        self.principle_tone = super().freq_from_name(self.key_name)"
   ]
  },
  {
   "cell_type": "code",
   "execution_count": null,
   "id": "a5652a3f",
   "metadata": {},
   "outputs": [],
   "source": [
    "def play(scale):\n",
    "    pass"
   ]
  },
  {
   "cell_type": "code",
   "execution_count": null,
   "id": "f050bf38",
   "metadata": {},
   "outputs": [],
   "source": [
    "x = Major(\"B\")"
   ]
  },
  {
   "cell_type": "markdown",
   "id": "e88ef5bd-9870-4805-842d-ea0a1915d5a4",
   "metadata": {},
   "source": [
    "## Scratch"
   ]
  },
  {
   "cell_type": "code",
   "execution_count": null,
   "id": "c048dc5a-ea1c-4fca-8575-5cf7483e93f3",
   "metadata": {},
   "outputs": [],
   "source": []
  },
  {
   "cell_type": "code",
   "execution_count": null,
   "id": "99e39560-2543-4d7b-9222-ceae9496340d",
   "metadata": {},
   "outputs": [],
   "source": [
    "# fails because musicpy depends on simpleaudio which I can't get installed\n",
    "import musicpy as mp\n",
    "guitar = (mp.C('CM7', 3, 1/4, 1/8)^2 |\n",
    "          mp.C('G7sus', 2, 1/4, 1/8)^2 |\n",
    "          mp.C('A7sus', 2, 1/4, 1/8)^2 |\n",
    "          mp.C('Em7', 2, 1/4, 1/8)^2 | \n",
    "          mp.C('FM7', 2, 1/4, 1/8)^2 |\n",
    "          mp.C('CM7', 3, 1/4, 1/8)@1 |\n",
    "          mp.C('AbM7', 2, 1/4, 1/8)^2 |\n",
    "          mp.C('G7sus', 2, 1/4, 1/8)^2) * 2\n",
    "\n",
    "mp.play(guitar, bpm=100, instrument=25)"
   ]
  },
  {
   "cell_type": "code",
   "execution_count": null,
   "id": "7e8f8bc0-e674-4832-84b0-022af1e23a0f",
   "metadata": {},
   "outputs": [],
   "source": [
    "# fails to make any sounds\n",
    "import time\n",
    "import rtmidi\n",
    "\n",
    "midiout = rtmidi.MidiOut()\n",
    "available_ports = midiout.get_ports()\n",
    "\n",
    "if available_ports:\n",
    "    midiout.open_port(0)\n",
    "else:\n",
    "    midiout.open_virtual_port(\"My virtual output\")\n",
    "\n",
    "with midiout:\n",
    "    note_on = [0x90, 60, 112] # channel 1, middle C, velocity 112\n",
    "    note_off = [0x80, 60, 0]\n",
    "    midiout.send_message(note_on)\n",
    "    time.sleep(0.5)\n",
    "    midiout.send_message(note_off)\n",
    "    time.sleep(0.1)\n",
    "\n",
    "del midiout"
   ]
  },
  {
   "cell_type": "markdown",
   "id": "c3dbfafc-80db-4ef3-8cbb-2c03de814381",
   "metadata": {},
   "source": [
    "## Notes / TODOs"
   ]
  },
  {
   "cell_type": "markdown",
   "id": "96e942b2-d0df-416d-b68d-29b889652add",
   "metadata": {},
   "source": [
    "#### Useful libraries\n",
    "\n",
    "* [pyaudio](https://people.csail.mit.edu/hubert/pyaudio/): play or record\n",
    "  various formats (trouble installing, see below)\n",
    "* [simpleaudio](https://pypi.org/project/simpleaudio/): don't know, looks okay\n",
    "  (trouble installing, see below)\n",
    "* [musicpy](https://pypi.org/project/musicpy/): program notes and songs using\n",
    "  the abstraction of music theory (trouble running because it depends on\n",
    "  simpleaudio, see below)\n",
    "* [python-rtmidi](https://pypi.org/project/python-rtmidi/): low-level MIDI\n",
    "  programming, with youtube tutorial\n",
    "  [Programming with MIDI in Python](https://www.youtube.com/watch?v=JYslZkc90GI)\n",
    "* [pymidi](https://pypi.org/project/pymidi/): don't know, looks okay"
   ]
  },
  {
   "cell_type": "markdown",
   "id": "305664c2-79a1-4211-98ad-293fe1ff2784",
   "metadata": {},
   "source": [
    "#### TODO"
   ]
  },
  {
   "cell_type": "markdown",
   "id": "dcd015a6-c6c2-4470-a164-df622eeab847",
   "metadata": {},
   "source": [
    "##### C-based libraries fail to install\n",
    "Pip fails to install some audio libraries with `subprocess-exited-with-error`.\n",
    "These libraries include c code, and so require a compilation step.\n",
    "\n",
    "Steps to reproduce:\n",
    "\n",
    "1. In virtual env or locally\n",
    "2. `pip install pyaudio` or `simpleaudio`\n",
    "\n",
    "Expected output: \"Successfully installed ...\"\n",
    "\n",
    "Actual output (for pyaudio):\n",
    "```\n",
    "src/pyaudio/device_api.c:9:10: fatal error: portaudio.h: No such file or directory\n",
    "compilation terminated.\n",
    "error: command '/usr/bin/x86_64-linux-gnu-gcc' failed with exit code 1\n",
    "```\n",
    "\n",
    "Actual output (for simpleaudio):\n",
    "```\n",
    "c_src/simpleaudio_alsa.c:8:10: fatal error: alsa/asoundlib.h: No such file or directory\n",
    "compilation terminated.\n",
    "error: command '/usr/bin/x86_64-linux-gnu-gcc' failed with exit code 1\n",
    "```\n",
    "\n",
    "Possible solutions:\n",
    "\n",
    "* These are old packages (?), with some other warnings on install too. Just\n",
    "  find modern better packages.\n",
    "* Install python developer tools, according to the article\n",
    "  [How to fix ...](https://www.geeksforgeeks.org/how-to-fix-fatal-error-python-h-no-such-file-or-directory/).\n",
    "  (Didn't fix it on a quick trial, I've already got python3-dev installed.)\n",
    "  Checkout this [stackoverflow](https://stackoverflow.com/questions/21530577/fatal-error-python-h-no-such-file-or-directory)."
   ]
  },
  {
   "cell_type": "markdown",
   "id": "6414fd84-8cdc-42df-b0fd-f91187c90acc",
   "metadata": {},
   "source": [
    "##### Runtime error with alsa-lib\n",
    "Steps to reproduce:\n",
    "\n",
    "1. Run boilerplate code from rtmidi pypi page\n",
    "\n",
    "Expected output: pretty sounds\n",
    "\n",
    "Actual output:\n",
    "```\n",
    "SystemError: MidiOutAlsa::initialize: error creating ALSA sequencer client object.\n",
    "```\n",
    "\n",
    "Possible solutions:\n",
    "\n",
    "* Link the library so it's visible to the library. See\n",
    "  [github issue](https://github.com/SpotlightKid/python-rtmidi/issues/138)\n",
    "  ```\n",
    "  $ sudo mkdir usr/lib/alsa-lib\n",
    "$ sudo ln -s /usr/lib/x86_64-linux-gnu/alsa-lib/* /usr/lib/alsa-lib/\n",
    "$ # or rather, link into /usr/lib64/alsa-lib/ if that's what the error message is\n",
    "   ```\n",
    "  this resolved the SystemError, but still didn't play any sounds"
   ]
  }
 ],
 "metadata": {
  "kernelspec": {
   "display_name": "Python 3 (ipykernel)",
   "language": "python",
   "name": "python3"
  },
  "language_info": {
   "codemirror_mode": {
    "name": "ipython",
    "version": 3
   },
   "file_extension": ".py",
   "mimetype": "text/x-python",
   "name": "python",
   "nbconvert_exporter": "python",
   "pygments_lexer": "ipython3",
   "version": "3.10.12"
  }
 },
 "nbformat": 4,
 "nbformat_minor": 5
}
