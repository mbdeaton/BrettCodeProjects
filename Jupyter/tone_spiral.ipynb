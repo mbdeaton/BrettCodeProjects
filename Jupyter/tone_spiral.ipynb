{
 "cells": [
  {
   "cell_type": "markdown",
   "id": "6657568e-1570-40d7-864d-5096178c514f",
   "metadata": {},
   "source": [
    "# Tone Spiral"
   ]
  },
  {
   "cell_type": "markdown",
   "id": "8453bff4-523a-407e-b888-8a2efe79fc3b",
   "metadata": {},
   "source": [
    "Brett Deaton - Fall 2023"
   ]
  },
  {
   "cell_type": "markdown",
   "id": "fb6cafb1-d073-44c1-85ed-4329a06e77bb",
   "metadata": {},
   "source": [
    "A representation of pure tones in shapes and sounds."
   ]
  },
  {
   "cell_type": "markdown",
   "metadata": {},
   "source": [
    "## Usage"
   ]
  },
  {
   "cell_type": "code",
   "execution_count": 22,
   "metadata": {},
   "outputs": [],
   "source": [
    "scale = Major(\"Ab\") # A flat\n",
    "play(scale)\n",
    "#draw(scale)"
   ]
  },
  {
   "cell_type": "markdown",
   "metadata": {},
   "source": [
    "## Definitions"
   ]
  },
  {
   "cell_type": "code",
   "execution_count": 18,
   "metadata": {},
   "outputs": [],
   "source": [
    "class Scale:\n",
    "    def freq_from_name(self, key_name):\n",
    "        pass"
   ]
  },
  {
   "cell_type": "code",
   "execution_count": 19,
   "metadata": {},
   "outputs": [],
   "source": [
    "class Major(Scale):\n",
    "    def __init__(self, key_name):\n",
    "        self.key_name = key_name\n",
    "        self.principle_tone = super().freq_from_name(self.key_name)"
   ]
  },
  {
   "cell_type": "code",
   "execution_count": 20,
   "metadata": {},
   "outputs": [],
   "source": [
    "def play(scale):\n",
    "    pass"
   ]
  },
  {
   "cell_type": "code",
   "execution_count": 21,
   "metadata": {},
   "outputs": [],
   "source": [
    "x = Major(\"B\")"
   ]
  }
 ],
 "metadata": {
  "kernelspec": {
   "display_name": "Python 3 (ipykernel)",
   "language": "python",
   "name": "python3"
  },
  "language_info": {
   "codemirror_mode": {
    "name": "ipython",
    "version": 3
   },
   "file_extension": ".py",
   "mimetype": "text/x-python",
   "name": "python",
   "nbconvert_exporter": "python",
   "pygments_lexer": "ipython3",
   "version": "3.10.12"
  }
 },
 "nbformat": 4,
 "nbformat_minor": 5
}
