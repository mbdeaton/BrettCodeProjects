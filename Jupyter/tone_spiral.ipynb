{
 "cells": [
  {
   "cell_type": "markdown",
   "id": "6657568e-1570-40d7-864d-5096178c514f",
   "metadata": {},
   "source": [
    "# Tone Spiral\n"
   ]
  },
  {
   "cell_type": "markdown",
   "id": "8453bff4-523a-407e-b888-8a2efe79fc3b",
   "metadata": {},
   "source": [
    "Brett Deaton - Fall 2023\n"
   ]
  },
  {
   "cell_type": "markdown",
   "id": "fb6cafb1-d073-44c1-85ed-4329a06e77bb",
   "metadata": {},
   "source": [
    "A representation of pure tones in shapes and sounds.\n"
   ]
  },
  {
   "cell_type": "markdown",
   "id": "3bd4b5a3",
   "metadata": {},
   "source": [
    "The class structure is:\n",
    "\n",
    "- Scale\n",
    "  - EqualTempered\n",
    "    - Chromatic\n",
    "    - Major\n",
    "    - Minor\n",
    "    - Pentatonic\n",
    "    - GreekMode\n",
    "    - ...\n",
    "  - JustIntonation\n",
    "    - Pythagorean\n",
    "    - FiveLimit\n",
    "    - Harmonic\n",
    "    - ...\n",
    "  - Free\n",
    "  - Raga (?)\n",
    "  - Gamelan (?)\n",
    "  - ...\n"
   ]
  },
  {
   "cell_type": "markdown",
   "id": "0f0d527a",
   "metadata": {},
   "source": [
    "## Usage\n"
   ]
  },
  {
   "cell_type": "code",
   "execution_count": null,
   "id": "989a05bf",
   "metadata": {},
   "outputs": [],
   "source": [
    "# scale = Chromatic(\"Ab\")\n",
    "scale = Major(\"C\")\n",
    "print(scale)\n",
    "# play(scale)\n",
    "# draw(scale)"
   ]
  },
  {
   "cell_type": "markdown",
   "id": "10ecc8f6",
   "metadata": {},
   "source": [
    "## Definitions\n"
   ]
  },
  {
   "cell_type": "code",
   "execution_count": null,
   "id": "f48ad2e0",
   "metadata": {},
   "outputs": [],
   "source": [
    "class Scale:\n",
    "    \"\"\"A series of tones in a distinct order.\n",
    "\n",
    "    Typical usage of x = Scale() includes print(x), which displays the\n",
    "    primary frequencies in Hz.\n",
    "    \"\"\"\n",
    "\n",
    "    def __init__(self):\n",
    "        self.primaries = None\n",
    "\n",
    "    def __str__(self):\n",
    "        return \" \".join([f\"{freq:.2f}\" for freq in self.primaries])\n",
    "\n",
    "\n",
    "class EqualTempered(Scale):\n",
    "    \"\"\"Tones from the traditional tuning of a piano.\n",
    "\n",
    "    The frequencies live on a grid equally-spaced in log frequency,\n",
    "    with 12 pitches (aka semitones) between each octave. The default grid\n",
    "    is referenced to the standard pitch of A4=440 Hz, but may be set to\n",
    "    any frequency at construction.\n",
    "    \"\"\"\n",
    "\n",
    "    _FREQ_A4 = 440  # default reference frequency\n",
    "\n",
    "    def __init__(self, key_name, ref_freq=_FREQ_A4):\n",
    "        \"\"\"Initialize\n",
    "\n",
    "        Args:\n",
    "            key_name (str): the 'home' note of the scale; allowed values\n",
    "                are any traditional western keys,\n",
    "                expressed as 1 or 2 characters; e.g. Ab, A, A#, etc.\n",
    "            ref_freq (float): the standard pitch in Hz used to compute the\n",
    "                grid of tones; it's the reference point, but may or may\n",
    "                not be included in the scale; default=440\n",
    "        \"\"\"\n",
    "        super().__init__()\n",
    "        self._NAMES_FLATS = (\"C\", \"Db\", \"D\", \"Eb\", \"E\", \"F\",\n",
    "                             \"Gb\", \"G\", \"Ab\", \"A\", \"Bb\", \"B\")\n",
    "        self._NAMES_SHARPS = (\"C\", \"C#\", \"D\", \"D#\", \"E\", \"F\",\n",
    "                              \"F#\", \"G\", \"G#\", \"A\", \"A#\", \"B\")\n",
    "        self._FREQ_C4 = self.ith_freq_from_primary(ref_freq, -9)\n",
    "        self._FREQS = tuple(self.ith_freq_from_primary(self._FREQ_C4, i)\n",
    "                            for i in range(12))\n",
    "\n",
    "    def freq_from_name(self, name, octave=4):\n",
    "        \"\"\"Lookup the frequency associated with a traditional western note name.\n",
    "\n",
    "        Args:\n",
    "            name (str): the name of the note,\n",
    "                expressed as 1 or 2 characters; e.g. Ab, A, A#, etc.\n",
    "            octave (int): the octave to draw from in scientific pitch notation;\n",
    "                for example the 4th octave beginning at Middle C covers\n",
    "                approximately 262-523 Hz; default=4\n",
    "        \"\"\"\n",
    "        index = self._NAMES_FLATS.index(name)\n",
    "        if index is None:\n",
    "            index = self._NAMES_SHARPS.index(name)\n",
    "            if index is None:\n",
    "                raise ValueError(f\"Name {name} is not a scale name\")\n",
    "        return self._FREQS[index] * 2**(octave-4)\n",
    "\n",
    "    def ith_freq_from_primary(self, primary, i):\n",
    "        \"\"\"Compute the frequency of the tone i semitones above the given primary.\n",
    "\n",
    "        The tuning is equal-tempered yielding 12 semitones to an octave.\n",
    "\n",
    "        Args:\n",
    "            primary (float): reference frequency in Hz\n",
    "            i (int): number of half-steps above primary,\n",
    "                indexed from 0, negative i means step down\n",
    "\n",
    "        Returns:\n",
    "            the computed frequency (float)\n",
    "        \"\"\"\n",
    "        return primary * pow(2, i/12)\n",
    "\n",
    "\n",
    "class Chromatic(EqualTempered):\n",
    "    \"\"\"The 12 notes from a piano keyboard.\"\"\"\n",
    "\n",
    "    def __init__(self, key_name, ref_freq=EqualTempered._FREQ_A4):\n",
    "        \"\"\"Initialize. See args for EqualTempered.\"\"\"\n",
    "        super().__init__(key_name, ref_freq)\n",
    "        self.key_name = key_name\n",
    "        self.principle = self.freq_from_name(key_name)\n",
    "        self.primaries = tuple(self.ith_freq_from_primary(self.principle, i)\n",
    "                               for i in range(12))\n",
    "\n",
    "\n",
    "class Major(EqualTempered):\n",
    "    \"\"\"The seven notes from a major scale.\"\"\"\n",
    "\n",
    "    def __init__(self, key_name, ref_freq=EqualTempered._FREQ_A4):\n",
    "        \"\"\"Initialize. See args for EqualTempered.\"\"\"\n",
    "        super().__init__(key_name, ref_freq)\n",
    "        self.key_name = key_name\n",
    "        self.principle = self.freq_from_name(key_name)\n",
    "        self.primaries = tuple(self.ith_freq_from_primary(self.principle, i)\n",
    "                               for i in (0, 2, 4, 5, 7, 9, 11))"
   ]
  },
  {
   "cell_type": "code",
   "execution_count": null,
   "id": "a5652a3f",
   "metadata": {},
   "outputs": [],
   "source": [
    "def play(scale):\n",
    "    pass"
   ]
  },
  {
   "cell_type": "markdown",
   "id": "e88ef5bd-9870-4805-842d-ea0a1915d5a4",
   "metadata": {},
   "source": [
    "## Scratch\n"
   ]
  },
  {
   "cell_type": "code",
   "execution_count": null,
   "id": "6b192fa3",
   "metadata": {},
   "outputs": [],
   "source": [
    "import plotly.express as px\n",
    "import pandas as pd\n",
    "data = {'freq': [1, 12.1], 'rad': [450, 333]}\n",
    "df = pd.DataFrame(data=data)\n",
    "fig = px.scatter_polar(df, r=\"rad\", theta=\"freq\")\n",
    "fig.show()"
   ]
  },
  {
   "cell_type": "code",
   "execution_count": null,
   "id": "99e39560-2543-4d7b-9222-ceae9496340d",
   "metadata": {},
   "outputs": [],
   "source": [
    "# fails because musicpy depends on simpleaudio which I can't get installed\n",
    "import musicpy as mp\n",
    "guitar = (mp.C('CM7', 3, 1/4, 1/8) ^ 2 |\n",
    "          mp.C('G7sus', 2, 1/4, 1/8) ^ 2 |\n",
    "          mp.C('A7sus', 2, 1/4, 1/8) ^ 2 |\n",
    "          mp.C('Em7', 2, 1/4, 1/8) ^ 2 |\n",
    "          mp.C('FM7', 2, 1/4, 1/8) ^ 2 |\n",
    "          mp.C('CM7', 3, 1/4, 1/8)@1 |\n",
    "          mp.C('AbM7', 2, 1/4, 1/8) ^ 2 |\n",
    "          mp.C('G7sus', 2, 1/4, 1/8) ^ 2) * 2\n",
    "\n",
    "mp.play(guitar, bpm=100, instrument=25)"
   ]
  },
  {
   "cell_type": "code",
   "execution_count": null,
   "id": "7e8f8bc0-e674-4832-84b0-022af1e23a0f",
   "metadata": {},
   "outputs": [],
   "source": [
    "# fails to make any sounds\n",
    "import time\n",
    "import rtmidi\n",
    "\n",
    "midiout = rtmidi.MidiOut()\n",
    "available_ports = midiout.get_ports()\n",
    "\n",
    "if available_ports:\n",
    "    midiout.open_port(0)\n",
    "else:\n",
    "    midiout.open_virtual_port(\"My virtual output\")\n",
    "\n",
    "with midiout:\n",
    "    note_on = [0x90, 60, 112]  # channel 1, middle C, velocity 112\n",
    "    note_off = [0x80, 60, 0]\n",
    "    midiout.send_message(note_on)\n",
    "    time.sleep(0.5)\n",
    "    midiout.send_message(note_off)\n",
    "    time.sleep(0.1)\n",
    "\n",
    "del midiout"
   ]
  },
  {
   "cell_type": "markdown",
   "id": "c3dbfafc-80db-4ef3-8cbb-2c03de814381",
   "metadata": {},
   "source": [
    "## Notes Etc\n"
   ]
  },
  {
   "cell_type": "markdown",
   "metadata": {},
   "source": [
    "#### Nice Resources\n",
    "\n",
    "- [muted.io](https://muted.io/): lots of interactive music theory tools\n"
   ]
  },
  {
   "cell_type": "markdown",
   "id": "96e942b2-d0df-416d-b68d-29b889652add",
   "metadata": {},
   "source": [
    "#### Useful libraries\n",
    "\n",
    "##### Play\n",
    "\n",
    "- [pyaudio](https://people.csail.mit.edu/hubert/pyaudio/): play or record\n",
    "  various formats (trouble installing, see below)\n",
    "- [simpleaudio](https://pypi.org/project/simpleaudio/): don't know, looks okay\n",
    "  (trouble installing, see below)\n",
    "- [musicpy](https://pypi.org/project/musicpy/): program notes and songs using\n",
    "  the abstraction of music theory (trouble running because it depends on\n",
    "  simpleaudio, see below)\n",
    "- [python-rtmidi](https://pypi.org/project/python-rtmidi/): low-level MIDI\n",
    "  programming, with youtube tutorial\n",
    "  [Programming with MIDI in Python](https://www.youtube.com/watch?v=JYslZkc90GI)\n",
    "- [pymidi](https://pypi.org/project/pymidi/): don't know, looks okay\n",
    "\n",
    "##### Draw\n",
    "\n",
    "- plotly\n",
    "- matplotlib\n",
    "- [drawsvg](https://pypi.org/project/drawsvg/): well-documented, and\n",
    "  community-supported\n",
    "- [svgwrite](https://pypi.org/project/svgwrite/): got some longevity, and\n",
    "  well-documented, but no longer expanded, just bugfixes\n",
    "- [svg.py](https://pypi.org/project/svg.py/): basic svg support\n"
   ]
  },
  {
   "cell_type": "markdown",
   "id": "305664c2-79a1-4211-98ad-293fe1ff2784",
   "metadata": {},
   "source": [
    "#### TODO\n"
   ]
  },
  {
   "cell_type": "markdown",
   "id": "d1238565",
   "metadata": {},
   "source": [
    "#### Next tasks\n",
    "\n",
    "Somewhat in order of operation, first at top\n",
    "\n",
    "- Figure out how to make ith_freq_from_primary() a static class method of\n",
    "  Scale, and also make other stuff static that should be\n",
    "- Expand Scale to provide an interface that returns the frequencies (?)\n",
    "- Create a draw function that converts a Scale's frequencies to a DataFrame\n",
    "  appropriate to plot in a plotly scatter_polar plot\n"
   ]
  },
  {
   "cell_type": "markdown",
   "id": "dcd015a6-c6c2-4470-a164-df622eeab847",
   "metadata": {},
   "source": [
    "##### C-based libraries fail to install\n",
    "\n",
    "Pip fails to install some audio libraries with `subprocess-exited-with-error`.\n",
    "These libraries include c code, and so require a compilation step.\n",
    "\n",
    "Steps to reproduce:\n",
    "\n",
    "1. In virtual env or locally\n",
    "2. `pip install pyaudio` or `simpleaudio`\n",
    "\n",
    "Expected output: \"Successfully installed ...\"\n",
    "\n",
    "Actual output (for pyaudio):\n",
    "\n",
    "```\n",
    "src/pyaudio/device_api.c:9:10: fatal error: portaudio.h: No such file or directory\n",
    "compilation terminated.\n",
    "error: command '/usr/bin/x86_64-linux-gnu-gcc' failed with exit code 1\n",
    "```\n",
    "\n",
    "Actual output (for simpleaudio):\n",
    "\n",
    "```\n",
    "c_src/simpleaudio_alsa.c:8:10: fatal error: alsa/asoundlib.h: No such file or directory\n",
    "compilation terminated.\n",
    "error: command '/usr/bin/x86_64-linux-gnu-gcc' failed with exit code 1\n",
    "```\n",
    "\n",
    "Possible solutions:\n",
    "\n",
    "- These are old packages (?), with some other warnings on install too. Just\n",
    "  find modern better packages.\n",
    "- Install python developer tools, according to the article\n",
    "  [How to fix ...](https://www.geeksforgeeks.org/how-to-fix-fatal-error-python-h-no-such-file-or-directory/).\n",
    "  (Didn't fix it on a quick trial, I've already got python3-dev installed.)\n",
    "  Checkout this [stackoverflow](https://stackoverflow.com/questions/21530577/fatal-error-python-h-no-such-file-or-directory).\n"
   ]
  },
  {
   "cell_type": "markdown",
   "id": "6414fd84-8cdc-42df-b0fd-f91187c90acc",
   "metadata": {},
   "source": [
    "##### Runtime error with alsa-lib\n",
    "\n",
    "Steps to reproduce:\n",
    "\n",
    "1. Run boilerplate code from rtmidi pypi page\n",
    "\n",
    "Expected output: pretty sounds\n",
    "\n",
    "Actual output:\n",
    "\n",
    "```\n",
    "SystemError: MidiOutAlsa::initialize: error creating ALSA sequencer client object.\n",
    "```\n",
    "\n",
    "Possible solutions:\n",
    "\n",
    "- Link the library so it's visible to the library. See\n",
    "  [github issue](https://github.com/SpotlightKid/python-rtmidi/issues/138)\n",
    "  ```\n",
    "  $ sudo mkdir usr/lib/alsa-lib\n",
    "  $ sudo ln -s /usr/lib/x86_64-linux-gnu/alsa-lib/* /usr/lib/alsa-lib/\n",
    "  $ # or rather, link into /usr/lib64/alsa-lib/ if that's what the error message is\n",
    "  ```\n",
    "  this resolved the SystemError, but still didn't play any sounds\n"
   ]
  }
 ],
 "metadata": {
  "kernelspec": {
   "display_name": "Python 3 (ipykernel)",
   "language": "python",
   "name": "python3"
  },
  "language_info": {
   "codemirror_mode": {
    "name": "ipython",
    "version": 3
   },
   "file_extension": ".py",
   "mimetype": "text/x-python",
   "name": "python",
   "nbconvert_exporter": "python",
   "pygments_lexer": "ipython3",
   "version": "3.10.12"
  }
 },
 "nbformat": 4,
 "nbformat_minor": 5
}
