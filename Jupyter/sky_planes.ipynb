{
 "cells": [
  {
   "cell_type": "markdown",
   "metadata": {},
   "source": [
    "# Planes of the Sky"
   ]
  },
  {
   "cell_type": "markdown",
   "metadata": {},
   "source": [
    "Brett Deaton -- Dec 2020"
   ]
  },
  {
   "cell_type": "markdown",
   "metadata": {},
   "source": [
    "#### From Explicit Definitions"
   ]
  },
  {
   "cell_type": "markdown",
   "metadata": {},
   "source": [
    "See Wikipedia's\n",
    "[celestial coordinate system](https://en.wikipedia.org/wiki/Celestial_coordinate_system)\n",
    "and Binney & Merrifield, *Galactic Astronomy*, 1998."
   ]
  },
  {
   "cell_type": "code",
   "execution_count": null,
   "metadata": {},
   "outputs": [],
   "source": [
    "from math import sin, cos, tan, pi, asin, acos, atan\n",
    "import numpy as np\n",
    "np.set_printoptions(suppress=True)\n",
    "class SkyPosition:\n",
    "    \"\"\"Sky position in celestial equatorial coordinates.\n",
    "    \n",
    "    In addition to equatorial coordinates (alpha, delta) used to initialize,\n",
    "    we also use ecliptic (lambda, beta) and galactic (ell, bee) coordinates,\n",
    "    where the two arguments are ordered (long, lat), and all angles are degrees\n",
    "    except right ascension, alpha.\n",
    "    \n",
    "    Args (floats):\n",
    "        alpha -- right ascension [hours], def=0\n",
    "        delta -- declination [degrees], def=0\n",
    "    \"\"\"\n",
    "    def __init__(self, alpha=0, delta=0):\n",
    "        # store colatitude theta and azimuth phi in rad\n",
    "        self.alpha = alpha*pi/12\n",
    "        self.delta = delta*pi/180\n",
    "        self.theta = (90-delta)*pi/180   # colatitude\n",
    "        self.phi = self.alpha            # azimuth\n",
    "        self.EPS = 23.44*pi/180          # obliquity of ecliptic\n",
    "        self.ALPHANGP = 192.86*pi/180    # right ascension galactic pole\n",
    "        self.DELTANGP = 27.13*pi/180     # declination galactic pole\n",
    "        self.ELLNCP = 122.93*pi/180      # galactic longitude celestial pole\n",
    "    def unitn(self):\n",
    "        \"\"\"Return unit 3-vector as numpy array.\"\"\"\n",
    "        st = sin(self.theta)\n",
    "        n = [st*cos(self.phi), st*sin(self.phi), cos(self.theta)]\n",
    "        return np.array(n)\n",
    "    def eclipticAngles(self):\n",
    "        ca = cos(self.alpha)\n",
    "        sa = sin(self.alpha)\n",
    "        cd = cos(self.delta)\n",
    "        sd = sin(self.delta)\n",
    "        td = tan(self.delta)\n",
    "        ce = cos(self.EPS)\n",
    "        se = sin(self.EPS)\n",
    "        lamb = atan((sa*ce+td*se)/ca)*180/pi\n",
    "        beta = asin(sd*ce-cd*se*sa)*180/pi\n",
    "        return (lamb, beta)"
   ]
  },
  {
   "cell_type": "code",
   "execution_count": null,
   "metadata": {},
   "outputs": [],
   "source": [
    "# Example, the four cardinal positions on the celestial equator\n",
    "nEqus = [SkyPosition(hr).unitn() for hr in range(0,24,6)]\n",
    "posNames = [\"VE\", \"SS\", \"AE\", \"WS\"] # vernal equinox, summer solstice, etc\n",
    "print(\"## Cardinal positions (equatorial coords)\")\n",
    "for name, n in zip(posNames, nEqus):\n",
    "    print(name, \": \", n, sep=\"\")"
   ]
  },
  {
   "cell_type": "code",
   "execution_count": null,
   "metadata": {},
   "outputs": [],
   "source": [
    "# Entering-boundary of the constellations along the ecliptic, i.e.\n",
    "# the right ascension of the sun when it enters that constellation.\n",
    "# Epoch J2000.0, from Norton's J2000.0 star charts, by eye.\n",
    "# Tuples are (right ascension [hrs], declination [deg]).\n",
    "constel = {\n",
    "    \"Ari\": (1.8, 11),\n",
    "    \"Tau\": (3.4, 18),\n",
    "    \"Gem\": (6.0, 23),\n",
    "    \"Can\": (8.0, 21),\n",
    "    \"Leo\": (9.3, 15),\n",
    "    \"Vir\": (11.6, 2),\n",
    "    \"Lib\": (14.4, -4),\n",
    "    \"Sco\": (15.9, -20),\n",
    "    \"Oph\": (16.4, -22),\n",
    "    \"Sag\": (17.7, -24),\n",
    "    \"Cap\": (20.1, -20),\n",
    "    \"Aqu\": (22.0, -12),\n",
    "    \"Pis\": (23.5, -3),\n",
    "}"
   ]
  },
  {
   "cell_type": "code",
   "execution_count": null,
   "metadata": {},
   "outputs": [],
   "source": [
    "anglesEcl = [SkyPosition(*p).eclipticAngles() for p in constel.values()]\n",
    "print(\"## Entering angles of sun (ecliptic longitude, deg)\")\n",
    "for name, a in zip(constel.keys(), anglesEcl):\n",
    "    print(name, \": \", round(a[0]*12/180,1), sep=\"\")"
   ]
  },
  {
   "cell_type": "markdown",
   "metadata": {},
   "source": [
    "## Todo"
   ]
  },
  {
   "cell_type": "markdown",
   "metadata": {},
   "source": [
    "The ecliptic longitudes are wrong above. Probably need to clarify the\n",
    "trig branching for atan, asin, etc."
   ]
  },
  {
   "cell_type": "markdown",
   "metadata": {},
   "source": [
    "## Scratch"
   ]
  },
  {
   "cell_type": "markdown",
   "metadata": {},
   "source": [
    "#### From Rotation Matrices"
   ]
  },
  {
   "cell_type": "code",
   "execution_count": null,
   "metadata": {},
   "outputs": [],
   "source": [
    "class RotMatrix:\n",
    "    \"\"\"Rotation matrices between celestial coordinate systems, numpy arrays.\n",
    "    \n",
    "    Specifies a coordinate transformation from representation of 3-vector in\n",
    "    one coordinate system to the same in a new system, n->n', via n'=Rn.\n",
    "    The three coordinate systems are equatorial (Equ), ecliptic (Ecl), and\n",
    "    galactic (Gal), giving rise to 6 possible transformation matrices,\n",
    "    R, e.g. EquToEcl, etc.\n",
    "    \"\"\"\n",
    "    def __init__(self):\n",
    "        self.eps = 23.44*pi/180 # obliquity of the ecliptic\n",
    "        ce = cos(self.eps)\n",
    "        se = sin(self.eps)\n",
    "        self.EquToEcl = np.array([[1,   0,   0],\n",
    "                                  [0,  ce,  se],\n",
    "                                  [0, -se,  ce]])\n",
    "        self.EclToEqu = np.array([[1,   0,   0],\n",
    "                                  [0,  ce, -se],\n",
    "                                  [0,  se,  ce]])"
   ]
  },
  {
   "cell_type": "code",
   "execution_count": null,
   "metadata": {},
   "outputs": [],
   "source": [
    "# Example, the four cardinal positions on the celestial equator\n",
    "r = RotMatrix()\n",
    "nEcl = [r.EquToEcl.dot(n) for n in nEqus]\n",
    "print(\"## Cardinal positions (ecliptic coords)\")\n",
    "for name, n in zip(posNames, nEcl):\n",
    "    print(name, \": \", n, sep=\"\")"
   ]
  },
  {
   "cell_type": "code",
   "execution_count": null,
   "metadata": {},
   "outputs": [],
   "source": [
    "print(SkyPosition(*constel[\"Ari\"]).unitn())"
   ]
  },
  {
   "cell_type": "code",
   "execution_count": null,
   "metadata": {},
   "outputs": [],
   "source": [
    "# Compute the position of the sun as it enters each constellation\n",
    "pEqu = [SkyPosition(*p).unitn() for p in constel.values()]\n",
    "print(\"## Entering position of sun (equatorial coords)\")\n",
    "for name, n in zip(constel.keys(), pEqu):\n",
    "    print(name, \": \", n, sep=\"\")"
   ]
  }
 ],
 "metadata": {
  "kernelspec": {
   "display_name": "Python 3",
   "language": "python",
   "name": "python3"
  },
  "language_info": {
   "codemirror_mode": {
    "name": "ipython",
    "version": 3
   },
   "file_extension": ".py",
   "mimetype": "text/x-python",
   "name": "python",
   "nbconvert_exporter": "python",
   "pygments_lexer": "ipython3",
   "version": "3.6.9"
  }
 },
 "nbformat": 4,
 "nbformat_minor": 4
}
